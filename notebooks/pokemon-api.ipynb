{
 "cells": [
  {
   "cell_type": "code",
   "execution_count": 1,
   "metadata": {},
   "outputs": [],
   "source": [
    "#https://dev.pokemontcg.io/dashboard\n",
    "#https://github.com/PokemonTCG/pokemon-tcg-sdk-python"
   ]
  },
  {
   "cell_type": "code",
   "execution_count": 1,
   "metadata": {},
   "outputs": [],
   "source": [
    "API_KEY = \"1321d2cc-d928-4480-8d30-4e355eebc3aa\""
   ]
  },
  {
   "cell_type": "code",
   "execution_count": 4,
   "metadata": {},
   "outputs": [
    {
     "name": "stdout",
     "output_type": "stream",
     "text": [
      "Requirement already satisfied: pokemontcgsdk in c:\\users\\maxpr\\appdata\\local\\programs\\python\\python38\\lib\\site-packages (3.4.0)\n",
      "Requirement already satisfied: dacite>=1.6.0 in c:\\users\\maxpr\\appdata\\local\\programs\\python\\python38\\lib\\site-packages (from pokemontcgsdk) (1.6.0)\n"
     ]
    },
    {
     "name": "stderr",
     "output_type": "stream",
     "text": [
      "WARNING: You are using pip version 20.2.3; however, version 22.0.3 is available.\n",
      "You should consider upgrading via the 'c:\\users\\maxpr\\appdata\\local\\programs\\python\\python38\\python.exe -m pip install --upgrade pip' command.\n"
     ]
    }
   ],
   "source": [
    "!pip install pokemontcgsdk"
   ]
  },
  {
   "cell_type": "code",
   "execution_count": 5,
   "metadata": {},
   "outputs": [],
   "source": [
    "from pokemontcgsdk import RestClient\n",
    "\n",
    "RestClient.configure(API_KEY)"
   ]
  },
  {
   "cell_type": "code",
   "execution_count": 6,
   "metadata": {},
   "outputs": [],
   "source": [
    "from pokemontcgsdk import Card\n",
    "cards = Card.where(q='set.name:generations supertype:pokemon')"
   ]
  },
  {
   "cell_type": "code",
   "execution_count": 10,
   "metadata": {},
   "outputs": [],
   "source": [
    "single_card = cards[0]"
   ]
  },
  {
   "cell_type": "code",
   "execution_count": 16,
   "metadata": {},
   "outputs": [
    {
     "data": {
      "text/plain": [
       "{'abilities': None,\n",
       " 'artist': 'Eske Yoshinob',\n",
       " 'ancientTrait': None,\n",
       " 'attacks': [Attack(name='Frog Hop', cost=['Grass', 'Colorless', 'Colorless'], convertedEnergyCost=3, damage='40+', text='Flip a coin. If heads, this attack does 40 more damage.'),\n",
       "  Attack(name='Poison Impact', cost=['Grass', 'Grass', 'Colorless', 'Colorless'], convertedEnergyCost=4, damage='80', text=\"Your opponent's Active Pokémon is now Asleep and Poisoned.\")],\n",
       " 'cardmarket': Cardmarket(url='https://prices.pokemontcg.io/cardmarket/g1-1', updatedAt='2022/02/11', prices=CardmarketPrices(averageSellPrice=6.86, lowPrice=2.99, trendPrice=5.93, germanProLow=None, suggestedPrice=None, reverseHoloSell=None, reverseHoloLow=None, reverseHoloTrend=6.21, lowPriceExPlus=4.49, avg1=6.0, avg7=6.85, avg30=7.0, reverseHoloAvg1=6.99, reverseHoloAvg7=5.52, reverseHoloAvg30=5.03)),\n",
       " 'convertedRetreatCost': 4,\n",
       " 'evolvesFrom': None,\n",
       " 'flavorText': None,\n",
       " 'hp': '180',\n",
       " 'id': 'g1-1',\n",
       " 'images': CardImage(small='https://images.pokemontcg.io/g1/1.png', large='https://images.pokemontcg.io/g1/1_hires.png'),\n",
       " 'legalities': Legality(unlimited='Legal', expanded='Legal', standard=None),\n",
       " 'regulationMark': None,\n",
       " 'name': 'Venusaur-EX',\n",
       " 'nationalPokedexNumbers': [3],\n",
       " 'number': '1',\n",
       " 'rarity': 'Rare Holo EX',\n",
       " 'resistances': None,\n",
       " 'retreatCost': ['Colorless', 'Colorless', 'Colorless', 'Colorless'],\n",
       " 'rules': ['Pokémon-EX rule: When a Pokémon-EX has been Knocked Out, your opponent takes 2 Prize cards.'],\n",
       " 'set': Set(id='g1', images=SetImage(symbol='https://images.pokemontcg.io/g1/symbol.png', logo='https://images.pokemontcg.io/g1/logo.png'), legalities=Legality(unlimited='Legal', expanded='Legal', standard=None), name='Generations', printedTotal=115, ptcgoCode='GEN', releaseDate='2016/02/22', series='XY', total=117, updatedAt='2020/08/14 09:35:00'),\n",
       " 'subtypes': ['Basic', 'EX'],\n",
       " 'supertype': 'Pokémon',\n",
       " 'tcgplayer': TCGPlayer(url='https://prices.pokemontcg.io/tcgplayer/g1-1', updatedAt='2022/02/11', prices=TCGPrices(normal=None, holofoil=TCGPrice(low=3.49, mid=5.39, high=14.99, market=6.65, directLow=3.92), reverseHolofoil=None, firstEditionHolofoil=None, firstEditionNormal=None)),\n",
       " 'types': ['Grass'],\n",
       " 'weaknesses': [Weakness(type='Fire', value='×2')]}"
      ]
     },
     "execution_count": 16,
     "metadata": {},
     "output_type": "execute_result"
    }
   ],
   "source": [
    "single_card.__dict__"
   ]
  },
  {
   "cell_type": "code",
   "execution_count": 20,
   "metadata": {},
   "outputs": [
    {
     "name": "stdout",
     "output_type": "stream",
     "text": [
      "Venusaur-EX\n",
      "[3]\n",
      "['Basic', 'EX']\n",
      "Rare Holo EX\n"
     ]
    }
   ],
   "source": [
    "print(single_card.name)\n",
    "print(single_card.nationalPokedexNumbers)\n",
    "print(single_card.subtypes)\n",
    "print(single_card.rarity)"
   ]
  },
  {
   "cell_type": "markdown",
   "metadata": {},
   "source": [
    "## For japanese"
   ]
  },
  {
   "cell_type": "code",
   "execution_count": 2,
   "metadata": {},
   "outputs": [],
   "source": [
    "base_url = \"https://jp.pokellector.com/sets\""
   ]
  },
  {
   "cell_type": "code",
   "execution_count": 3,
   "metadata": {},
   "outputs": [
    {
     "name": "stdout",
     "output_type": "stream",
     "text": [
      "Requirement already satisfied: webdriver-manager in c:\\users\\maxpr\\appdata\\local\\programs\\python\\python38\\lib\\site-packages (3.5.3)"
     ]
    },
    {
     "name": "stderr",
     "output_type": "stream",
     "text": [
      "WARNING: You are using pip version 20.2.3; however, version 22.0.3 is available.\n",
      "You should consider upgrading via the 'c:\\users\\maxpr\\appdata\\local\\programs\\python\\python38\\python.exe -m pip install --upgrade pip' command.\n"
     ]
    },
    {
     "name": "stdout",
     "output_type": "stream",
     "text": [
      "\n",
      "Requirement already satisfied: selenium in c:\\users\\maxpr\\appdata\\local\\programs\\python\\python38\\lib\\site-packages (4.1.0)\n",
      "Requirement already satisfied: wget in c:\\users\\maxpr\\appdata\\local\\programs\\python\\python38\\lib\\site-packages (3.2)\n",
      "Requirement already satisfied: tqdm in c:\\users\\maxpr\\appdata\\local\\programs\\python\\python38\\lib\\site-packages (4.62.3)\n",
      "Requirement already satisfied: crayons in c:\\users\\maxpr\\appdata\\local\\programs\\python\\python38\\lib\\site-packages (from webdriver-manager) (0.4.0)\n",
      "Requirement already satisfied: configparser in c:\\users\\maxpr\\appdata\\local\\programs\\python\\python38\\lib\\site-packages (from webdriver-manager) (5.2.0)\n",
      "Requirement already satisfied: requests in c:\\users\\maxpr\\appdata\\local\\programs\\python\\python38\\lib\\site-packages (from webdriver-manager) (2.25.1)\n",
      "Requirement already satisfied: urllib3[secure]~=1.26 in c:\\users\\maxpr\\appdata\\local\\programs\\python\\python38\\lib\\site-packages (from selenium) (1.26.6)\n",
      "Requirement already satisfied: trio~=0.17 in c:\\users\\maxpr\\appdata\\local\\programs\\python\\python38\\lib\\site-packages (from selenium) (0.19.0)\n",
      "Requirement already satisfied: trio-websocket~=0.9 in c:\\users\\maxpr\\appdata\\local\\programs\\python\\python38\\lib\\site-packages (from selenium) (0.9.2)\n",
      "Requirement already satisfied: colorama; platform_system == \"Windows\" in c:\\users\\maxpr\\appdata\\local\\programs\\python\\python38\\lib\\site-packages (from tqdm) (0.4.4)\n",
      "Requirement already satisfied: chardet<5,>=3.0.2 in c:\\users\\maxpr\\appdata\\local\\programs\\python\\python38\\lib\\site-packages (from requests->webdriver-manager) (4.0.0)\n",
      "Requirement already satisfied: certifi>=2017.4.17 in c:\\users\\maxpr\\appdata\\local\\programs\\python\\python38\\lib\\site-packages (from requests->webdriver-manager) (2021.5.30)\n",
      "Requirement already satisfied: idna<3,>=2.5 in c:\\users\\maxpr\\appdata\\local\\programs\\python\\python38\\lib\\site-packages (from requests->webdriver-manager) (2.10)\n",
      "Requirement already satisfied: pyOpenSSL>=0.14; extra == \"secure\" in c:\\users\\maxpr\\appdata\\local\\programs\\python\\python38\\lib\\site-packages (from urllib3[secure]~=1.26->selenium) (22.0.0)\n",
      "Requirement already satisfied: cryptography>=1.3.4; extra == \"secure\" in c:\\users\\maxpr\\appdata\\local\\programs\\python\\python38\\lib\\site-packages (from urllib3[secure]~=1.26->selenium) (36.0.1)\n",
      "Requirement already satisfied: cffi>=1.14; os_name == \"nt\" and implementation_name != \"pypy\" in c:\\users\\maxpr\\appdata\\local\\programs\\python\\python38\\lib\\site-packages (from trio~=0.17->selenium) (1.14.5)\n",
      "Requirement already satisfied: async-generator>=1.9 in c:\\users\\maxpr\\appdata\\local\\programs\\python\\python38\\lib\\site-packages (from trio~=0.17->selenium) (1.10)\n",
      "Requirement already satisfied: attrs>=19.2.0 in c:\\users\\maxpr\\appdata\\local\\programs\\python\\python38\\lib\\site-packages (from trio~=0.17->selenium) (21.2.0)\n",
      "Requirement already satisfied: sniffio in c:\\users\\maxpr\\appdata\\local\\programs\\python\\python38\\lib\\site-packages (from trio~=0.17->selenium) (1.2.0)\n",
      "Requirement already satisfied: outcome in c:\\users\\maxpr\\appdata\\local\\programs\\python\\python38\\lib\\site-packages (from trio~=0.17->selenium) (1.1.0)\n",
      "Requirement already satisfied: sortedcontainers in c:\\users\\maxpr\\appdata\\local\\programs\\python\\python38\\lib\\site-packages (from trio~=0.17->selenium) (2.4.0)\n",
      "Requirement already satisfied: wsproto>=0.14 in c:\\users\\maxpr\\appdata\\local\\programs\\python\\python38\\lib\\site-packages (from trio-websocket~=0.9->selenium) (1.0.0)\n",
      "Requirement already satisfied: pycparser in c:\\users\\maxpr\\appdata\\local\\programs\\python\\python38\\lib\\site-packages (from cffi>=1.14; os_name == \"nt\" and implementation_name != \"pypy\"->trio~=0.17->selenium) (2.20)\n",
      "Requirement already satisfied: h11<1,>=0.9.0 in c:\\users\\maxpr\\appdata\\local\\programs\\python\\python38\\lib\\site-packages (from wsproto>=0.14->trio-websocket~=0.9->selenium) (0.13.0)\n"
     ]
    }
   ],
   "source": [
    "!pip install webdriver-manager selenium wget tqdm"
   ]
  },
  {
   "cell_type": "code",
   "execution_count": 4,
   "metadata": {},
   "outputs": [],
   "source": [
    "from selenium import webdriver\n",
    "import time\n",
    "from selenium.webdriver.support.select import Select\n",
    "from selenium.webdriver.common.by import By\n",
    "from selenium.webdriver.support.ui import WebDriverWait\n",
    "from selenium.webdriver.support import expected_conditions as EC\n",
    "import wget\n",
    "from selenium.common.exceptions import NoSuchElementException\n",
    "import pandas as pd\n",
    "from tqdm import tqdm_notebook"
   ]
  },
  {
   "cell_type": "code",
   "execution_count": 5,
   "metadata": {},
   "outputs": [
    {
     "name": "stderr",
     "output_type": "stream",
     "text": [
      "C:\\Users\\maxpr\\AppData\\Local\\Temp/ipykernel_22244/3374932004.py:7: DeprecationWarning: executable_path has been deprecated, please pass in a Service object\n",
      "  driver = webdriver.Chrome(options=chrome_options,executable_path=\"C:\\\\Users\\\\maxpr\\\\Downloads\\\\chromedriver_win32\\\\chromedriver.exe\" )\n"
     ]
    }
   ],
   "source": [
    "chrome_options = webdriver.ChromeOptions()\n",
    "chrome_options.add_argument('--no-sandbox')\n",
    "chrome_options.add_argument('--headless')\n",
    "chrome_options.add_argument('--disable-gpu')\n",
    "chrome_options.add_argument('--disable-dev-shm-usage')\n",
    "chrome_options.add_argument(\"--window-size=1920,1080\")\n",
    "driver = webdriver.Chrome(options=chrome_options,executable_path=\"C:\\\\Users\\\\maxpr\\\\Downloads\\\\chromedriver_win32\\\\chromedriver.exe\" )\n",
    "driver.implicitly_wait(10)\n",
    "data = []"
   ]
  },
  {
   "cell_type": "code",
   "execution_count": 6,
   "metadata": {},
   "outputs": [],
   "source": [
    "driver.get(base_url)"
   ]
  },
  {
   "cell_type": "code",
   "execution_count": 7,
   "metadata": {},
   "outputs": [
    {
     "name": "stderr",
     "output_type": "stream",
     "text": [
      "C:\\Users\\maxpr\\AppData\\Local\\Temp/ipykernel_22244/2139438567.py:1: DeprecationWarning: find_elements_by_* commands are deprecated. Please use find_elements() instead\n",
      "  series = driver.find_elements_by_class_name('set')\n",
      "C:\\Users\\maxpr\\AppData\\Local\\Temp/ipykernel_22244/2139438567.py:2: DeprecationWarning: find_elements_by_* commands are deprecated. Please use find_elements() instead\n",
      "  blocks = driver.find_elements_by_class_name('buttonlisting')\n"
     ]
    }
   ],
   "source": [
    "series = driver.find_elements_by_class_name('set')\n",
    "blocks = driver.find_elements_by_class_name('buttonlisting')"
   ]
  },
  {
   "cell_type": "code",
   "execution_count": null,
   "metadata": {},
   "outputs": [],
   "source": []
  },
  {
   "cell_type": "code",
   "execution_count": 138,
   "metadata": {},
   "outputs": [
    {
     "name": "stdout",
     "output_type": "stream",
     "text": [
      "Sword & Shield Series\n",
      "S9A\n",
      "https://jp.pokellector.com/sets/S9A-Battle-Region\n",
      "Battle Region Set\n",
      "S9\n",
      "https://jp.pokellector.com/sets/S9-Star-Birth\n",
      "Star Birth Set\n",
      "SI\n",
      "https://jp.pokellector.com/sets/SI-Start-Deck-100\n",
      "Start Deck 100 Set\n",
      "S8B\n",
      "https://jp.pokellector.com/sets/S8B-VMAX-Climax\n"
     ]
    },
    {
     "name": "stderr",
     "output_type": "stream",
     "text": [
      "C:\\Users\\maxpr\\AppData\\Local\\Programs\\Python\\Python38\\lib\\site-packages\\selenium\\webdriver\\remote\\webelement.py:464: UserWarning: find_elements_by_* commands are deprecated. Please use find_elements() instead\n",
      "  warnings.warn(\"find_elements_by_* commands are deprecated. Please use find_elements() instead\")\n",
      "C:\\Users\\maxpr\\AppData\\Local\\Programs\\Python\\Python38\\lib\\site-packages\\selenium\\webdriver\\remote\\webelement.py:484: UserWarning: find_element_by_* commands are deprecated. Please use find_element() instead\n",
      "  warnings.warn(\"find_element_by_* commands are deprecated. Please use find_element() instead\")\n"
     ]
    },
    {
     "name": "stdout",
     "output_type": "stream",
     "text": [
      "VMAX Climax Set\n",
      "S8AP\n",
      "https://jp.pokellector.com/sets/S8AP-25th-Anniversary-Promo-Pack\n",
      "25th Anniversary Promo Pack Set\n",
      "S8A\n",
      "https://jp.pokellector.com/sets/S8A-25th-Anniversary-Collection\n",
      "25th Anniversary Collection Set\n",
      "S8\n",
      "https://jp.pokellector.com/sets/S8-Fusion-ARTS\n",
      "Fusion ARTS Set\n",
      "S7R\n",
      "https://jp.pokellector.com/sets/S7R-Blue-Sky-Stream\n",
      "Blue Sky Stream Set\n",
      "S7D\n",
      "https://jp.pokellector.com/sets/S7D-Towering-Perfection\n",
      "Towering Perfection Set\n",
      "S6A\n",
      "https://jp.pokellector.com/sets/S6A-Eevee-Heroes\n",
      "Eevee Heroes Set\n",
      "S6K\n",
      "https://jp.pokellector.com/sets/S6K-Jet-Black-Spirit\n",
      "Jet Black Spirit Set\n",
      "S6H\n",
      "https://jp.pokellector.com/sets/S6H-Silver-Lance\n",
      "Silver Lance Set\n",
      "S5A\n",
      "https://jp.pokellector.com/sets/S5A-Matchless-Fighter\n",
      "Matchless Fighter Set\n",
      "S5R\n",
      "https://jp.pokellector.com/sets/S5R-Rapid-Strike-Master\n",
      "Rapid Strike Master Set\n",
      "S5I\n",
      "https://jp.pokellector.com/sets/S5I-Single-Strike-Master\n",
      "Single Strike Master Set\n",
      "S4A\n",
      "https://jp.pokellector.com/sets/S4A-Shiny-Star-V\n",
      "Shiny Star V Set\n",
      "S4\n",
      "https://jp.pokellector.com/sets/S4-Electrifying-Tackle\n",
      "Electrifying Tackle Set\n",
      "S3A\n",
      "https://jp.pokellector.com/sets/S3A-Legendary-Pulse\n",
      "Legendary Pulse Set\n",
      "S3\n",
      "https://jp.pokellector.com/sets/S3-Infinity-Zone\n",
      "Infinity Zone Set\n",
      "S2A\n",
      "https://jp.pokellector.com/sets/S2A-Explosive-Flame-Walker\n",
      "Explosive Flame Walker Set\n",
      "S2\n",
      "https://jp.pokellector.com/sets/S2-Rebellion-Crash\n",
      "Rebellion Crash Set\n",
      "S1A\n",
      "https://jp.pokellector.com/sets/S1A-VMAX-Rising\n",
      "VMAX Rising Set\n",
      "S1W\n",
      "https://jp.pokellector.com/sets/S1W-Sword\n",
      "Sword Set\n",
      "S1H\n",
      "https://jp.pokellector.com/sets/S1H-Shield\n",
      "Shield Set\n",
      "SP\n",
      "https://jp.pokellector.com/sets/SP-Sword-Shield-Promos\n",
      "Sword & Shield Promos Set\n",
      "SP4\n",
      "https://jp.pokellector.com/sets/SP4-Eevee-Heroes-VMAX-Special-Set\n",
      "Eevee Heroes VMAX Special Set Set\n",
      "SP3\n",
      "https://jp.pokellector.com/sets/SP3-Silver-Lance-Jet-Black-Spirit-Promo-Set\n",
      "Silver Lance & Jet-Black Spirit Promo Set Set\n",
      "SP2\n",
      "https://jp.pokellector.com/sets/SP2-VMAX-Special-Set\n",
      "VMAX Special Set Set\n",
      "Sun & Moon Series\n",
      "SM12A\n",
      "https://jp.pokellector.com/sets/SM12A-Tag-Team-GX-All-Stars\n",
      "Tag Team GX All Stars Set\n",
      "SM12\n",
      "https://jp.pokellector.com/sets/SM12-Alter-Genesis\n",
      "Alter Genesis Set\n",
      "SM11B\n",
      "https://jp.pokellector.com/sets/SM11B-Dream-League\n",
      "Dream League Set\n",
      "SM11A\n",
      "https://jp.pokellector.com/sets/SM11A-Remix-Bout\n",
      "Remix Bout Set\n",
      "SM11\n",
      "https://jp.pokellector.com/sets/SM11-Miracle-Twins\n",
      "Miracle Twins Set\n",
      "SM10B\n",
      "https://jp.pokellector.com/sets/SM10B-Sky-Legend\n",
      "Sky Legend Set\n",
      "SMP2\n",
      "https://jp.pokellector.com/sets/SMP2-Detective-Pikachu\n",
      "Detective Pikachu Set\n",
      "SM10A\n",
      "https://jp.pokellector.com/sets/SM10A-GG-End\n",
      "GG End Set\n",
      "SM10\n",
      "https://jp.pokellector.com/sets/SM10-Double-Blaze\n",
      "Double Blaze Set\n",
      "SM9B\n",
      "https://jp.pokellector.com/sets/SM9B-Full-Metal-Wall\n",
      "Full Metal Wall Set\n",
      "SM9A\n",
      "https://jp.pokellector.com/sets/SM9A-Night-Unison\n",
      "Night Unison Set\n",
      "SM9\n",
      "https://jp.pokellector.com/sets/SM9-Tag-Bolt\n",
      "Tag Bolt Set\n",
      "SM8B\n",
      "https://jp.pokellector.com/sets/SM8B-Ultra-Shiny-GX\n",
      "Ultra Shiny GX Set\n",
      "SM8A\n",
      "https://jp.pokellector.com/sets/SM8A-Dark-Order\n",
      "Dark Order Set\n",
      "SM8\n",
      "https://jp.pokellector.com/sets/SM8-Explosive-Impact\n",
      "Explosive Impact Set\n",
      "SM7B\n",
      "https://jp.pokellector.com/sets/SM7B-Fairy-Rise\n",
      "Fairy Rise Set\n",
      "SM7A\n",
      "https://jp.pokellector.com/sets/SM7A-Thunderclap-Spark\n",
      "Thunderclap Spark Set\n",
      "SM7\n",
      "https://jp.pokellector.com/sets/SM7-Charisma-of-the-Cracked-Sky\n",
      "Charisma of the Cracked Sky Set\n",
      "SM6\n",
      "https://jp.pokellector.com/sets/SM6-Forbidden-Light\n",
      "Forbidden Light Set\n",
      "SM5+\n",
      "https://jp.pokellector.com/sets/SM5+-Ultra-Force\n",
      "Ultra Force Set\n",
      "SM5S\n",
      "https://jp.pokellector.com/sets/SM5S-Ultra-Sun\n",
      "Ultra Sun Set\n",
      "SM5M\n",
      "https://jp.pokellector.com/sets/SM5M-Ultra-Moon\n",
      "Ultra Moon Set\n",
      "SM4+\n",
      "https://jp.pokellector.com/sets/SM4+-GX-Battle-Boost\n",
      "GX Battle Boost Set\n",
      "SM4A\n",
      "https://jp.pokellector.com/sets/SM4A-The-Transdimensional-Beast\n",
      "The Transdimensional Beast Set\n",
      "SM4S\n",
      "https://jp.pokellector.com/sets/SM4S-The-Awoken-Hero\n",
      "The Awoken Hero Set\n",
      "SM3+\n",
      "https://jp.pokellector.com/sets/SM3+-Strengthening-Expansion-Shining-Legends\n",
      "Strengthening Expansion: Shining Legends Set\n",
      "SM3N\n",
      "https://jp.pokellector.com/sets/SM3N-Light-Consuming-Darkness\n",
      "Light-Consuming Darkness Set\n",
      "SM3H\n",
      "https://jp.pokellector.com/sets/SM3H-Seen-the-Rainbow-Battle\n",
      "Seen the Rainbow Battle Set\n",
      "SM2+\n",
      "https://jp.pokellector.com/sets/SM2+-Strengthening-Expansion-Pack-Beyond-A-New-Challenge\n",
      "Strengthening Expansion Pack: Beyond A New Challenge Set\n",
      "SM2L\n",
      "https://jp.pokellector.com/sets/SM2L-Alola-Moonlight\n",
      "Alola Moonlight Set\n",
      "SM2K\n",
      "https://jp.pokellector.com/sets/SM2K-Islands-Awaiting-You\n",
      "Islands Awaiting You Set\n",
      "SM1+\n",
      "https://jp.pokellector.com/sets/SM1+-Sun-Moon-Strengthening-Expansion\n",
      "Sun & Moon Strengthening Expansion Set\n",
      "SM1S\n",
      "https://jp.pokellector.com/sets/SM1S-Collection-Sun\n",
      "Collection Sun Set\n",
      "SM1M\n",
      "https://jp.pokellector.com/sets/SM1M-Collection-Moon\n",
      "Collection Moon Set\n",
      "SMP\n",
      "https://jp.pokellector.com/sets/SMP-Sun-Moon-Promos\n",
      "Sun & Moon Promos Set\n",
      "SM6B\n",
      "https://jp.pokellector.com/sets/SM6B-Champion-Road\n",
      "Champion Road Set\n",
      "SM6A\n",
      "https://jp.pokellector.com/sets/SM6A-Dragon-Storm\n",
      "Dragon Storm Set\n",
      "SMD\n",
      "https://jp.pokellector.com/sets/SMD-Ash-vs-Team-Rocket-Battle-Set\n",
      "Ash vs Team Rocket Battle Set Set\n",
      "SM0\n",
      "https://jp.pokellector.com/sets/SM0-Pikachu-New-Friends\n",
      "Pikachu & New Friends Set\n",
      "SMC\n",
      "https://jp.pokellector.com/sets/SMC-Tapu-Bulu-GX-Enhanced-Starter-Set\n",
      "Tapu Bulu GX Enhanced Starter Set Set\n",
      "SMP1\n",
      "https://jp.pokellector.com/sets/SMP1-Rockruff-Full-Power-Deck\n",
      "Rockruff Full Power Deck Set\n",
      "SMA\n",
      "https://jp.pokellector.com/sets/SMA-Starter-Set-Decks\n",
      "Starter Set Decks Set\n",
      "SMB\n",
      "https://jp.pokellector.com/sets/SMB-Premium-Trainer-Box\n",
      "Premium Trainer Box Set\n",
      "Pokemon XY Series\n",
      "XY\n",
      "https://jp.pokellector.com/sets/XY-The-Best-of-XY\n",
      "The Best of XY Set\n",
      "CP6\n",
      "https://jp.pokellector.com/sets/CP6-20th-Anniversary-Collection\n",
      "20th Anniversary Collection Set\n",
      "CP5\n",
      "https://jp.pokellector.com/sets/CP5-Mythical-Legendary-Dream-Holo-Collection\n",
      "Mythical / Legendary Dream Holo Collection Set\n",
      "XY11\n",
      "https://jp.pokellector.com/sets/XY11-Explosive-Warrior\n",
      "Explosive Warrior Set\n",
      "XY11\n",
      "https://jp.pokellector.com/sets/XY11-Ruthless-Rebel\n",
      "Ruthless Rebel Set\n",
      "CP4\n",
      "https://jp.pokellector.com/sets/CP4-Premium-Champion-Pack-EX-x-M-x-BREAK\n",
      "Premium Champion Pack: EX x M x BREAK Set\n",
      "XYH\n",
      "https://jp.pokellector.com/sets/XYH-Mega-Audino-EX-Mega-Battle-Deck\n",
      "Mega Audino EX Mega Battle Deck Set\n",
      "XY10\n",
      "https://jp.pokellector.com/sets/XY10-Awakening-of-Psychic-Kings\n",
      "Awakening of Psychic Kings Set\n",
      "XYG\n",
      "https://jp.pokellector.com/sets/XYG-Zygarde-EX-Perfect-Battle-Deck\n",
      "Zygarde EX Perfect Battle Deck Set\n",
      "20TH\n",
      "https://jp.pokellector.com/sets/20TH-Pokemon-Card-Game-Starter-Pack\n",
      "Pokemon Card Game Starter Pack Set\n",
      "CP3\n",
      "https://jp.pokellector.com/sets/CP3-Pokekyun-Collection\n",
      "Pokekyun Collection Set\n",
      "XY9\n",
      "https://jp.pokellector.com/sets/XY9-Rage-of-the-Broken-Sky\n",
      "Rage of the Broken Sky Set\n",
      "XYF\n",
      "https://jp.pokellector.com/sets/XYF-Golduck-BREAK-Palkia-EX-Combo-Deck\n",
      "Golduck BREAK & Palkia EX Combo Deck Set\n",
      "SNP\n",
      "https://jp.pokellector.com/sets/SNP-Noivern-BREAK-Evolution-Pack\n",
      "Noivern BREAK Evolution Pack Set\n",
      "SNP\n",
      "https://jp.pokellector.com/sets/SNP-Raichu-BREAK-Evolution-Pack\n",
      "Raichu BREAK Evolution Pack Set\n",
      "XY8\n",
      "https://jp.pokellector.com/sets/XY8-Blue-Impact\n",
      "Blue Impact Set\n",
      "XY8\n",
      "https://jp.pokellector.com/sets/XY8-Red-Flash\n",
      "Red Flash Set\n",
      "CP2\n",
      "https://jp.pokellector.com/sets/CP2-Legendary-Holo-Collection\n",
      "Legendary Holo Collection Set\n",
      "XY7\n",
      "https://jp.pokellector.com/sets/XY7-Bandit-Ring\n",
      "Bandit Ring Set\n",
      "XYD\n",
      "https://jp.pokellector.com/sets/XYD-Mega-Rayquaza-EX-Battle-Deck\n",
      "Mega Rayquaza EX Battle Deck Set\n",
      "XY6\n",
      "https://jp.pokellector.com/sets/XY6-Emerald-Break\n",
      "Emerald Break Set\n",
      "CP1\n",
      "https://jp.pokellector.com/sets/CP1-Magma-Gang-vs-Aqua-Gang-Double-Crisis\n",
      "Magma Gang vs Aqua Gang: Double Crisis Set\n",
      "XY5\n",
      "https://jp.pokellector.com/sets/XY5-Gaia-Volcano\n",
      "Gaia Volcano Set\n",
      "XY5\n",
      "https://jp.pokellector.com/sets/XY5-Tidal-Storm\n",
      "Tidal Storm Set\n",
      "XYB\n",
      "https://jp.pokellector.com/sets/XYB-Hyper-Metal-Chain-Deck\n",
      "Hyper Metal Chain Deck Set\n",
      "XY4\n",
      "https://jp.pokellector.com/sets/XY4-Phantom-Gate\n",
      "Phantom Gate Set\n",
      "XY3\n",
      "https://jp.pokellector.com/sets/XY3-Rising-Fist\n",
      "Rising Fist Set\n",
      "XYA\n",
      "https://jp.pokellector.com/sets/XYA-M-Charizard-EX-Mega-Battle-Deck\n",
      "M Charizard EX Mega Battle Deck Set\n",
      "XY2\n",
      "https://jp.pokellector.com/sets/XY2-Wild-Blaze\n",
      "Wild Blaze Set\n",
      "X30\n",
      "https://jp.pokellector.com/sets/X30-Xerneas-Half-Deck\n",
      "Xerneas Half Deck Set\n",
      "Y30\n",
      "https://jp.pokellector.com/sets/Y30-Yveltal-Half-Deck\n",
      "Yveltal Half Deck Set\n",
      "XY1\n",
      "https://jp.pokellector.com/sets/XY1-Collection-Y\n",
      "Collection Y Set\n",
      "XY1\n",
      "https://jp.pokellector.com/sets/XY1-Collection-X\n",
      "Collection X Set\n",
      "HXY\n",
      "https://jp.pokellector.com/sets/HXY-XY-Beginning-Set\n",
      "XY Beginning Set Set\n",
      "XYP\n",
      "https://jp.pokellector.com/sets/XYP-XY-Promos\n",
      "XY Promos Set\n",
      "Black & White Promos Series\n",
      "MG\n",
      "https://jp.pokellector.com/sets/MG-Mewtwo-Vs-Genesect-Genesect\n",
      "Mewtwo Vs Genesect: Genesect Set\n",
      "MG\n",
      "https://jp.pokellector.com/sets/MG-Mewtwo-Vs-Genesect-Mewtwo\n",
      "Mewtwo Vs Genesect: Mewtwo Set\n",
      "KK\n",
      "https://jp.pokellector.com/sets/KK-Blastoise-Kyurem-Combo-Deck\n",
      "Blastoise & Kyurem Combo Deck Set\n",
      "SC\n",
      "https://jp.pokellector.com/sets/SC-Shiny-Collection\n",
      "Shiny Collection Set\n",
      "WAK\n",
      "https://jp.pokellector.com/sets/WAK-Exciting-Battle-for-Everyone\n",
      "Exciting Battle for Everyone Set\n",
      "PBG\n",
      "https://jp.pokellector.com/sets/PBG-Team-Plasma-Battle-Gift-Set\n",
      "Team Plasma Battle Gift Set Set\n",
      "KLD\n",
      "https://jp.pokellector.com/sets/KLD-Keldeo-Battle-Strength-Deck\n",
      "Keldeo Battle Strength Deck Set\n",
      "GBR\n",
      "https://jp.pokellector.com/sets/GBR-Garchomp-Half-Deck\n",
      "Garchomp Half Deck Set\n",
      "SZD\n",
      "https://jp.pokellector.com/sets/SZD-Hydreigon-Half-Deck\n",
      "Hydreigon Half Deck Set\n",
      "DS\n",
      "https://jp.pokellector.com/sets/DS-Dragon-Selection\n",
      "Dragon Selection Set\n",
      "BWP\n",
      "https://jp.pokellector.com/sets/BWP-Black-White-Promos\n",
      "Black & White Promos Set\n",
      "Black & White Series\n",
      "EBB\n",
      "https://jp.pokellector.com/sets/EBB-EX-Battle-Boost\n",
      "EX Battle Boost Set\n",
      "BW9\n",
      "https://jp.pokellector.com/sets/BW9-Megalo-Cannon\n",
      "Megalo Cannon Set\n",
      "BW8\n",
      "https://jp.pokellector.com/sets/BW8-Thunder-Knuckle\n",
      "Thunder Knuckle Set\n",
      "BW8\n",
      "https://jp.pokellector.com/sets/BW8-Spiral-Force\n",
      "Spiral Force Set\n",
      "BW7\n",
      "https://jp.pokellector.com/sets/BW7-Plasma-Gale\n",
      "Plasma Gale Set\n",
      "BW6\n",
      "https://jp.pokellector.com/sets/BW6-Freeze-Bolt\n",
      "Freeze Bolt Set\n",
      "BW6\n",
      "https://jp.pokellector.com/sets/BW6-Cold-Flare\n",
      "Cold Flare Set\n",
      "BW5\n",
      "https://jp.pokellector.com/sets/BW5-Dragon-Blade\n",
      "Dragon Blade Set\n",
      "BW5\n",
      "https://jp.pokellector.com/sets/BW5-Dragon-Blast\n",
      "Dragon Blast Set\n",
      "BW4\n",
      "https://jp.pokellector.com/sets/BW4-Dark-Rush\n",
      "Dark Rush Set\n",
      "BW3\n",
      "https://jp.pokellector.com/sets/BW3-Hail-Blizzard\n",
      "Hail Blizzard Set\n",
      "BW3\n",
      "https://jp.pokellector.com/sets/BW3-Psycho-Drive\n",
      "Psycho Drive Set\n",
      "BW2\n",
      "https://jp.pokellector.com/sets/BW2-Red-Collection\n",
      "Red Collection Set\n",
      "BW1\n",
      "https://jp.pokellector.com/sets/BW1-White-Collection\n",
      "White Collection Set\n",
      "BW1\n",
      "https://jp.pokellector.com/sets/BW1-Black-Collection\n",
      "Black Collection Set\n",
      "Legend Series\n",
      "L3\n",
      "https://jp.pokellector.com/sets/L3-Clash-at-the-Summit\n",
      "Clash at the Summit Set\n",
      "L2\n",
      "https://jp.pokellector.com/sets/L2-Reviving-Legends\n",
      "Reviving Legends Set\n",
      "L1HG\n",
      "https://jp.pokellector.com/sets/L1HG-HeartGold-Collection\n",
      "HeartGold Collection Set\n",
      "L1SS\n",
      "https://jp.pokellector.com/sets/L1SS-SoulSilver-Collection\n",
      "SoulSilver Collection Set\n",
      "LL\n",
      "https://jp.pokellector.com/sets/LL-Lost-Link\n",
      "Lost Link Set\n",
      "DPt Series\n",
      "PT4\n",
      "https://jp.pokellector.com/sets/PT4-Advent-of-Arceus\n",
      "Advent of Arceus Set\n",
      "PTS\n",
      "https://jp.pokellector.com/sets/PTS-Shaymin-LVX-Collection-Pack\n",
      "Shaymin LV.X Collection Pack Set\n",
      "PT3\n",
      "https://jp.pokellector.com/sets/PT3-Beat-of-the-Frontier\n",
      "Beat of the Frontier Set\n",
      "PT2\n",
      "https://jp.pokellector.com/sets/PT2-Bonds-to-the-End-of-Time\n",
      "Bonds to the End of Time Set\n",
      "PT1\n",
      "https://jp.pokellector.com/sets/PT1-Galactics-Conquest\n",
      "Galactic's Conquest Set\n",
      "DPTP\n",
      "https://jp.pokellector.com/sets/DPTP-DPt-Promos\n",
      "DPt Promos Set\n",
      "PPP Promos Series\n",
      "PPP\n",
      "https://jp.pokellector.com/sets/PPP-PPP-Promos\n",
      "PPP Promos Set\n",
      "DP Era Series\n",
      "DPP\n",
      "https://jp.pokellector.com/sets/DPP-DP-Promos\n",
      "DP Promos Set\n",
      "Pokemon VS Series\n",
      "VS\n",
      "https://jp.pokellector.com/sets/VS-Pokemon-VS\n",
      "Pokemon VS Set\n",
      "Neo Series\n",
      "NEO4\n",
      "https://jp.pokellector.com/sets/NEO4-Darkness-and-to-Light\n",
      "Darkness and to Light Set\n",
      "NEO3\n",
      "https://jp.pokellector.com/sets/NEO3-Awakening-Legends\n",
      "Awakening Legends Set\n",
      "NEO2\n",
      "https://jp.pokellector.com/sets/NEO2-Crossing-the-Ruins\n",
      "Crossing the Ruins Set\n",
      "NEO1\n",
      "https://jp.pokellector.com/sets/NEO1-Gold-Silver-to-a-New-World\n",
      "Gold, Silver, to a New World... Set\n",
      "Original Series\n",
      "B06\n",
      "https://jp.pokellector.com/sets/B06-Challenge-from-the-Darkness\n",
      "Challenge from the Darkness Set\n",
      "B05\n",
      "https://jp.pokellector.com/sets/B05-Leaders-Stadium\n",
      "Leader's Stadium Set\n",
      "B04\n",
      "https://jp.pokellector.com/sets/B04-Rocket-Gang\n",
      "Rocket Gang Set\n",
      "B03\n",
      "https://jp.pokellector.com/sets/B03-Mystery-of-the-Fossils\n",
      "Mystery of the Fossils Set\n",
      "B02\n",
      "https://jp.pokellector.com/sets/B02-Pokemon-Jungle\n",
      "Pokemon Jungle Set\n",
      "EXP\n",
      "https://jp.pokellector.com/sets/EXP-Expansion-Pack\n",
      "Expansion Pack Set\n"
     ]
    }
   ],
   "source": [
    "data_blocks = []\n",
    "for idx, block in enumerate(blocks):\n",
    "    print(series[idx].text)\n",
    "    #print(ext.text)\n",
    "    #ext_name = \n",
    "    for extension in block.find_elements_by_class_name('button'):\n",
    "        ext_code = extension.get_attribute('name')\n",
    "        ext_url = extension.get_attribute('href')\n",
    "        ext_name = extension.get_attribute('title')\n",
    "        ext_image_url = extension.find_element_by_css_selector('img').get_attribute('src')\n",
    "        print(ext_code)\n",
    "        print(ext_url)\n",
    "        print(ext_name)\n",
    "\n",
    "        data_blocks.append([series[idx].text, ext_code, ext_url, ext_name, ext_image_url])\n",
    "df_ext = pd.DataFrame(data_blocks, columns =[\"serie\", \"ext_code\", \"ext_url\", \"ext_name\", \"ext_img_url\"])"
   ]
  },
  {
   "cell_type": "code",
   "execution_count": 139,
   "metadata": {},
   "outputs": [
    {
     "data": {
      "text/html": [
       "<div>\n",
       "<style scoped>\n",
       "    .dataframe tbody tr th:only-of-type {\n",
       "        vertical-align: middle;\n",
       "    }\n",
       "\n",
       "    .dataframe tbody tr th {\n",
       "        vertical-align: top;\n",
       "    }\n",
       "\n",
       "    .dataframe thead th {\n",
       "        text-align: right;\n",
       "    }\n",
       "</style>\n",
       "<table border=\"1\" class=\"dataframe\">\n",
       "  <thead>\n",
       "    <tr style=\"text-align: right;\">\n",
       "      <th></th>\n",
       "      <th>serie</th>\n",
       "      <th>ext_code</th>\n",
       "      <th>ext_url</th>\n",
       "      <th>ext_name</th>\n",
       "      <th>ext_img_url</th>\n",
       "    </tr>\n",
       "  </thead>\n",
       "  <tbody>\n",
       "    <tr>\n",
       "      <th>0</th>\n",
       "      <td>Sword &amp; Shield Series</td>\n",
       "      <td>S9A</td>\n",
       "      <td>https://jp.pokellector.com/sets/S9A-Battle-Region</td>\n",
       "      <td>Battle Region Set</td>\n",
       "      <td>https://den-media.pokellector.com/logos/Battle...</td>\n",
       "    </tr>\n",
       "    <tr>\n",
       "      <th>1</th>\n",
       "      <td>Sword &amp; Shield Series</td>\n",
       "      <td>S9</td>\n",
       "      <td>https://jp.pokellector.com/sets/S9-Star-Birth</td>\n",
       "      <td>Star Birth Set</td>\n",
       "      <td>https://den-media.pokellector.com/logos/Star-B...</td>\n",
       "    </tr>\n",
       "    <tr>\n",
       "      <th>2</th>\n",
       "      <td>Sword &amp; Shield Series</td>\n",
       "      <td>SI</td>\n",
       "      <td>https://jp.pokellector.com/sets/SI-Start-Deck-100</td>\n",
       "      <td>Start Deck 100 Set</td>\n",
       "      <td>https://den-media.pokellector.com/logos/Start-...</td>\n",
       "    </tr>\n",
       "    <tr>\n",
       "      <th>3</th>\n",
       "      <td>Sword &amp; Shield Series</td>\n",
       "      <td>S8B</td>\n",
       "      <td>https://jp.pokellector.com/sets/S8B-VMAX-Climax</td>\n",
       "      <td>VMAX Climax Set</td>\n",
       "      <td>https://den-media.pokellector.com/logos/VMAX-C...</td>\n",
       "    </tr>\n",
       "    <tr>\n",
       "      <th>4</th>\n",
       "      <td>Sword &amp; Shield Series</td>\n",
       "      <td>S8AP</td>\n",
       "      <td>https://jp.pokellector.com/sets/S8AP-25th-Anni...</td>\n",
       "      <td>25th Anniversary Promo Pack Set</td>\n",
       "      <td>https://den-media.pokellector.com/logos/25th-A...</td>\n",
       "    </tr>\n",
       "    <tr>\n",
       "      <th>...</th>\n",
       "      <td>...</td>\n",
       "      <td>...</td>\n",
       "      <td>...</td>\n",
       "      <td>...</td>\n",
       "      <td>...</td>\n",
       "    </tr>\n",
       "    <tr>\n",
       "      <th>151</th>\n",
       "      <td>Original Series</td>\n",
       "      <td>B05</td>\n",
       "      <td>https://jp.pokellector.com/sets/B05-Leaders-St...</td>\n",
       "      <td>Leader's Stadium Set</td>\n",
       "      <td>https://den-media.pokellector.com/logos/Leader...</td>\n",
       "    </tr>\n",
       "    <tr>\n",
       "      <th>152</th>\n",
       "      <td>Original Series</td>\n",
       "      <td>B04</td>\n",
       "      <td>https://jp.pokellector.com/sets/B04-Rocket-Gang</td>\n",
       "      <td>Rocket Gang Set</td>\n",
       "      <td>https://den-media.pokellector.com/logos/Rocket...</td>\n",
       "    </tr>\n",
       "    <tr>\n",
       "      <th>153</th>\n",
       "      <td>Original Series</td>\n",
       "      <td>B03</td>\n",
       "      <td>https://jp.pokellector.com/sets/B03-Mystery-of...</td>\n",
       "      <td>Mystery of the Fossils Set</td>\n",
       "      <td>https://den-media.pokellector.com/logos/Myster...</td>\n",
       "    </tr>\n",
       "    <tr>\n",
       "      <th>154</th>\n",
       "      <td>Original Series</td>\n",
       "      <td>B02</td>\n",
       "      <td>https://jp.pokellector.com/sets/B02-Pokemon-Ju...</td>\n",
       "      <td>Pokemon Jungle Set</td>\n",
       "      <td>https://den-media.pokellector.com/logos/Pokemo...</td>\n",
       "    </tr>\n",
       "    <tr>\n",
       "      <th>155</th>\n",
       "      <td>Original Series</td>\n",
       "      <td>EXP</td>\n",
       "      <td>https://jp.pokellector.com/sets/EXP-Expansion-...</td>\n",
       "      <td>Expansion Pack Set</td>\n",
       "      <td>https://den-media.pokellector.com/logos/Expans...</td>\n",
       "    </tr>\n",
       "  </tbody>\n",
       "</table>\n",
       "<p>156 rows × 5 columns</p>\n",
       "</div>"
      ],
      "text/plain": [
       "                     serie ext_code  \\\n",
       "0    Sword & Shield Series      S9A   \n",
       "1    Sword & Shield Series       S9   \n",
       "2    Sword & Shield Series       SI   \n",
       "3    Sword & Shield Series      S8B   \n",
       "4    Sword & Shield Series     S8AP   \n",
       "..                     ...      ...   \n",
       "151        Original Series      B05   \n",
       "152        Original Series      B04   \n",
       "153        Original Series      B03   \n",
       "154        Original Series      B02   \n",
       "155        Original Series      EXP   \n",
       "\n",
       "                                               ext_url  \\\n",
       "0    https://jp.pokellector.com/sets/S9A-Battle-Region   \n",
       "1        https://jp.pokellector.com/sets/S9-Star-Birth   \n",
       "2    https://jp.pokellector.com/sets/SI-Start-Deck-100   \n",
       "3      https://jp.pokellector.com/sets/S8B-VMAX-Climax   \n",
       "4    https://jp.pokellector.com/sets/S8AP-25th-Anni...   \n",
       "..                                                 ...   \n",
       "151  https://jp.pokellector.com/sets/B05-Leaders-St...   \n",
       "152    https://jp.pokellector.com/sets/B04-Rocket-Gang   \n",
       "153  https://jp.pokellector.com/sets/B03-Mystery-of...   \n",
       "154  https://jp.pokellector.com/sets/B02-Pokemon-Ju...   \n",
       "155  https://jp.pokellector.com/sets/EXP-Expansion-...   \n",
       "\n",
       "                            ext_name  \\\n",
       "0                  Battle Region Set   \n",
       "1                     Star Birth Set   \n",
       "2                 Start Deck 100 Set   \n",
       "3                    VMAX Climax Set   \n",
       "4    25th Anniversary Promo Pack Set   \n",
       "..                               ...   \n",
       "151             Leader's Stadium Set   \n",
       "152                  Rocket Gang Set   \n",
       "153       Mystery of the Fossils Set   \n",
       "154               Pokemon Jungle Set   \n",
       "155               Expansion Pack Set   \n",
       "\n",
       "                                           ext_img_url  \n",
       "0    https://den-media.pokellector.com/logos/Battle...  \n",
       "1    https://den-media.pokellector.com/logos/Star-B...  \n",
       "2    https://den-media.pokellector.com/logos/Start-...  \n",
       "3    https://den-media.pokellector.com/logos/VMAX-C...  \n",
       "4    https://den-media.pokellector.com/logos/25th-A...  \n",
       "..                                                 ...  \n",
       "151  https://den-media.pokellector.com/logos/Leader...  \n",
       "152  https://den-media.pokellector.com/logos/Rocket...  \n",
       "153  https://den-media.pokellector.com/logos/Myster...  \n",
       "154  https://den-media.pokellector.com/logos/Pokemo...  \n",
       "155  https://den-media.pokellector.com/logos/Expans...  \n",
       "\n",
       "[156 rows x 5 columns]"
      ]
     },
     "execution_count": 139,
     "metadata": {},
     "output_type": "execute_result"
    }
   ],
   "source": [
    "df_ext"
   ]
  },
  {
   "cell_type": "code",
   "execution_count": 151,
   "metadata": {},
   "outputs": [],
   "source": [
    "url_test = 'https://jp.pokellector.com/sets/S8-Fusion-ARTS'"
   ]
  },
  {
   "cell_type": "code",
   "execution_count": 152,
   "metadata": {},
   "outputs": [],
   "source": [
    "driver.get(url_test)"
   ]
  },
  {
   "cell_type": "code",
   "execution_count": 153,
   "metadata": {},
   "outputs": [
    {
     "name": "stdout",
     "output_type": "stream",
     "text": [
      "This set introduces new FUSION cards!\n",
      "Cards\n",
      "100\n",
      "+29 Secret\n",
      "Released\n",
      "Sep 24th\n",
      "2021\n"
     ]
    },
    {
     "name": "stderr",
     "output_type": "stream",
     "text": [
      "C:\\Users\\maxpr\\AppData\\Local\\Temp/ipykernel_20160/3635570042.py:1: DeprecationWarning: find_element_by_* commands are deprecated. Please use find_element() instead\n",
      "  card_metadata = driver.find_element_by_class_name(\"setinfo\").text\n"
     ]
    }
   ],
   "source": [
    "card_metadata = driver.find_element_by_class_name(\"setinfo\").text\n",
    "print(card_metadata)"
   ]
  },
  {
   "cell_type": "code",
   "execution_count": 157,
   "metadata": {},
   "outputs": [
    {
     "name": "stdout",
     "output_type": "stream",
     "text": [
      "This set introduces new FUSION cards!\n",
      "Cards\n",
      "100\n",
      "+29 Secret\n",
      "Released\n",
      "Sep 24th\n",
      "2021\n"
     ]
    },
    {
     "name": "stderr",
     "output_type": "stream",
     "text": [
      "C:\\Users\\maxpr\\AppData\\Local\\Temp/ipykernel_20160/3946651833.py:1: DeprecationWarning: find_element_by_* commands are deprecated. Please use find_element() instead\n",
      "  card_metadata = driver.find_element_by_class_name(\"setinfo\").text\n"
     ]
    },
    {
     "data": {
      "text/plain": [
       "['This set introduces new FUSION cards!\\nCards\\n100\\n+29 Secret\\n',\n",
       " '\\nSep 24th\\n2021']"
      ]
     },
     "execution_count": 157,
     "metadata": {},
     "output_type": "execute_result"
    }
   ],
   "source": [
    "card_metadata = driver.find_element_by_class_name(\"setinfo\").text\n",
    "print(card_metadata)\n",
    "card_metadata.split(\"Released\")"
   ]
  },
  {
   "cell_type": "code",
   "execution_count": 155,
   "metadata": {},
   "outputs": [
    {
     "name": "stderr",
     "output_type": "stream",
     "text": [
      "C:\\Users\\maxpr\\AppData\\Local\\Temp/ipykernel_20160/4231425114.py:1: DeprecationWarning: find_element_by_* commands are deprecated. Please use find_element() instead\n",
      "  all_cards = driver.find_element_by_class_name('cardlisting').find_elements_by_xpath('//div[@class=\"card \"]')\n",
      "C:\\Users\\maxpr\\AppData\\Local\\Programs\\Python\\Python38\\lib\\site-packages\\selenium\\webdriver\\remote\\webelement.py:426: UserWarning: find_elements_by_* commands are deprecated. Please use find_elements() instead\n",
      "  warnings.warn(\"find_elements_by_* commands are deprecated. Please use find_elements() instead\")\n",
      "C:\\Users\\maxpr\\AppData\\Local\\Programs\\Python\\Python38\\lib\\site-packages\\selenium\\webdriver\\remote\\webelement.py:484: UserWarning: find_element_by_* commands are deprecated. Please use find_element() instead\n",
      "  warnings.warn(\"find_element_by_* commands are deprecated. Please use find_element() instead\")\n"
     ]
    }
   ],
   "source": [
    "all_cards = driver.find_element_by_class_name('cardlisting').find_elements_by_xpath('//div[@class=\"card \"]')\n",
    "cards = []\n",
    "for card in all_cards:\n",
    "    card_name = card.text\n",
    "    card_img_ref = card.find_element_by_css_selector('a').find_element_by_css_selector('img').get_attribute('data-src')\n",
    "    #print(card_name)\n",
    "    #print(card_img_ref)\n",
    "    cards.append([card_name, card_img_ref])\n",
    "df_cards = pd.DataFrame(cards, columns = ['card_name','card_img_url'])"
   ]
  },
  {
   "cell_type": "code",
   "execution_count": 156,
   "metadata": {},
   "outputs": [
    {
     "data": {
      "text/html": [
       "<div>\n",
       "<style scoped>\n",
       "    .dataframe tbody tr th:only-of-type {\n",
       "        vertical-align: middle;\n",
       "    }\n",
       "\n",
       "    .dataframe tbody tr th {\n",
       "        vertical-align: top;\n",
       "    }\n",
       "\n",
       "    .dataframe thead th {\n",
       "        text-align: right;\n",
       "    }\n",
       "</style>\n",
       "<table border=\"1\" class=\"dataframe\">\n",
       "  <thead>\n",
       "    <tr style=\"text-align: right;\">\n",
       "      <th></th>\n",
       "      <th>card_name</th>\n",
       "      <th>card_img_url</th>\n",
       "    </tr>\n",
       "  </thead>\n",
       "  <tbody>\n",
       "    <tr>\n",
       "      <th>0</th>\n",
       "      <td>#1 - Caterpie</td>\n",
       "      <td>https://den-cards.pokellector.com/326/Caterpie...</td>\n",
       "    </tr>\n",
       "    <tr>\n",
       "      <th>1</th>\n",
       "      <td>#2 - Metapod</td>\n",
       "      <td>https://den-cards.pokellector.com/326/Metapod....</td>\n",
       "    </tr>\n",
       "    <tr>\n",
       "      <th>2</th>\n",
       "      <td>#3 - Butterfree</td>\n",
       "      <td>https://den-cards.pokellector.com/326/Butterfr...</td>\n",
       "    </tr>\n",
       "    <tr>\n",
       "      <th>3</th>\n",
       "      <td>#4 - Shroomish</td>\n",
       "      <td>https://den-cards.pokellector.com/326/Shroomis...</td>\n",
       "    </tr>\n",
       "    <tr>\n",
       "      <th>4</th>\n",
       "      <td>#5 - Breloom</td>\n",
       "      <td>https://den-cards.pokellector.com/326/Breloom....</td>\n",
       "    </tr>\n",
       "    <tr>\n",
       "      <th>...</th>\n",
       "      <td>...</td>\n",
       "      <td>...</td>\n",
       "    </tr>\n",
       "    <tr>\n",
       "      <th>124</th>\n",
       "      <td>#125 - Flaaffy</td>\n",
       "      <td>https://den-cards.pokellector.com/326/Flaaffy....</td>\n",
       "    </tr>\n",
       "    <tr>\n",
       "      <th>125</th>\n",
       "      <td>#126 - Power Tablet</td>\n",
       "      <td>https://den-cards.pokellector.com/326/Power-Ta...</td>\n",
       "    </tr>\n",
       "    <tr>\n",
       "      <th>126</th>\n",
       "      <td>#127 - Training Court</td>\n",
       "      <td>https://den-cards.pokellector.com/326/Training...</td>\n",
       "    </tr>\n",
       "    <tr>\n",
       "      <th>127</th>\n",
       "      <td>#128 - Grass Energy</td>\n",
       "      <td>https://den-cards.pokellector.com/326/Grass-En...</td>\n",
       "    </tr>\n",
       "    <tr>\n",
       "      <th>128</th>\n",
       "      <td>#129 - Fire Energy</td>\n",
       "      <td>https://den-cards.pokellector.com/326/Fire-Ene...</td>\n",
       "    </tr>\n",
       "  </tbody>\n",
       "</table>\n",
       "<p>129 rows × 2 columns</p>\n",
       "</div>"
      ],
      "text/plain": [
       "                 card_name                                       card_img_url\n",
       "0            #1 - Caterpie  https://den-cards.pokellector.com/326/Caterpie...\n",
       "1             #2 - Metapod  https://den-cards.pokellector.com/326/Metapod....\n",
       "2          #3 - Butterfree  https://den-cards.pokellector.com/326/Butterfr...\n",
       "3           #4 - Shroomish  https://den-cards.pokellector.com/326/Shroomis...\n",
       "4             #5 - Breloom  https://den-cards.pokellector.com/326/Breloom....\n",
       "..                     ...                                                ...\n",
       "124         #125 - Flaaffy  https://den-cards.pokellector.com/326/Flaaffy....\n",
       "125    #126 - Power Tablet  https://den-cards.pokellector.com/326/Power-Ta...\n",
       "126  #127 - Training Court  https://den-cards.pokellector.com/326/Training...\n",
       "127    #128 - Grass Energy  https://den-cards.pokellector.com/326/Grass-En...\n",
       "128     #129 - Fire Energy  https://den-cards.pokellector.com/326/Fire-Ene...\n",
       "\n",
       "[129 rows x 2 columns]"
      ]
     },
     "execution_count": 156,
     "metadata": {},
     "output_type": "execute_result"
    }
   ],
   "source": [
    "df_cards"
   ]
  },
  {
   "cell_type": "code",
   "execution_count": 11,
   "metadata": {},
   "outputs": [],
   "source": [
    "from tqdm.notebook import tqdm\n",
    "\n",
    "def get_all_series(base_url: str) -> None:\n",
    "    chrome_options = webdriver.ChromeOptions()\n",
    "    chrome_options.add_argument('--no-sandbox')\n",
    "    chrome_options.add_argument('--headless')\n",
    "    chrome_options.add_argument('--disable-gpu')\n",
    "    chrome_options.add_argument('--disable-dev-shm-usage')\n",
    "    chrome_options.add_argument(\"--window-size=1920,1080\")\n",
    "    driver = webdriver.Chrome(options=chrome_options,executable_path=\"C:\\\\Users\\\\maxpr\\\\Downloads\\\\chromedriver_win32\\\\chromedriver.exe\" )\n",
    "    driver.implicitly_wait(10)\n",
    "    driver.get(base_url)\n",
    "    series = driver.find_elements_by_class_name('set')\n",
    "    blocks = driver.find_elements_by_class_name('buttonlisting')\n",
    "    data_blocks = []\n",
    "    for idx, block in enumerate(tqdm(blocks[:3])):\n",
    "    \n",
    "        #print(ext.text)\n",
    "        #ext_name = \n",
    "        for extension in block.find_elements_by_class_name('button'):\n",
    "            ext_code = extension.get_attribute('name')\n",
    "            ext_url = extension.get_attribute('href')\n",
    "            ext_name = extension.get_attribute('title')\n",
    "            ext_image_url = extension.find_element_by_css_selector('img').get_attribute('src')\n",
    "            #print(ext_code)\n",
    "            #print(ext_url)\n",
    "            #print(ext_name)\n",
    "            df_card_ext = one_extension_cards(ext_url)\n",
    "            df_card_ext['series'] = series[idx].text\n",
    "            df_card_ext['ext_code'] = ext_code\n",
    "            df_card_ext['ext_name'] = ext_name\n",
    "            #data_blocks.append([series[idx].text, ext_code, ext_url, ext_name, ext_image_url])\n",
    "            df_card_ext.to_csv(ext_name+\".csv\")\n",
    "    #df_ext = pd.DataFrame(data_blocks, columns =[\"serie\", \"ext_code\", \"ext_url\", \"ext_name\", \"ext_img_url\"])\n",
    "\n",
    "\n",
    "def one_extension_cards(url_extension: str) -> pd.DataFrame:\n",
    "    chrome_options = webdriver.ChromeOptions()\n",
    "    chrome_options.add_argument('--no-sandbox')\n",
    "    chrome_options.add_argument('--headless')\n",
    "    chrome_options.add_argument('--disable-gpu')\n",
    "    chrome_options.add_argument('--disable-dev-shm-usage')\n",
    "    chrome_options.add_argument(\"--window-size=1920,1080\")\n",
    "    driver = webdriver.Chrome(options=chrome_options,executable_path=\"C:\\\\Users\\\\maxpr\\\\Downloads\\\\chromedriver_win32\\\\chromedriver.exe\" )\n",
    "    driver.get(url_extension)\n",
    "    card_metadata = driver.find_element_by_class_name(\"setinfo\").text\n",
    "    print(card_metadata)\n",
    "    all_cards = driver.find_element_by_class_name('cardlisting').find_elements_by_xpath('//div[@class=\"card \"]')\n",
    "    cards = []\n",
    "    for card in tqdm(all_cards):\n",
    "        card_name = card.text\n",
    "        card_img_ref = card.find_element_by_css_selector('a').find_element_by_css_selector('img').get_attribute('data-src')\n",
    "        #print(card_name)\n",
    "        #print(card_img_ref)\n",
    "        cards.append([card_name, card_img_ref])\n",
    "    df_cards = pd.DataFrame(cards, columns = ['card_name','card_img_url'])\n",
    "    return df_cards"
   ]
  },
  {
   "cell_type": "code",
   "execution_count": 12,
   "metadata": {},
   "outputs": [
    {
     "name": "stderr",
     "output_type": "stream",
     "text": [
      "C:\\Users\\maxpr\\AppData\\Local\\Temp/ipykernel_20384/2609232765.py:10: DeprecationWarning: executable_path has been deprecated, please pass in a Service object\n",
      "  driver = webdriver.Chrome(options=chrome_options,executable_path=\"C:\\\\Users\\\\maxpr\\\\Downloads\\\\chromedriver_win32\\\\chromedriver.exe\" )\n",
      "C:\\Users\\maxpr\\AppData\\Local\\Temp/ipykernel_20384/2609232765.py:13: DeprecationWarning: find_elements_by_* commands are deprecated. Please use find_elements() instead\n",
      "  series = driver.find_elements_by_class_name('set')\n",
      "C:\\Users\\maxpr\\AppData\\Local\\Temp/ipykernel_20384/2609232765.py:14: DeprecationWarning: find_elements_by_* commands are deprecated. Please use find_elements() instead\n",
      "  blocks = driver.find_elements_by_class_name('buttonlisting')\n"
     ]
    },
    {
     "data": {
      "application/vnd.jupyter.widget-view+json": {
       "model_id": "e351a8c65c95445e9556e84185a36e28",
       "version_major": 2,
       "version_minor": 0
      },
      "text/plain": [
       "  0%|          | 0/3 [00:00<?, ?it/s]"
      ]
     },
     "metadata": {},
     "output_type": "display_data"
    },
    {
     "name": "stderr",
     "output_type": "stream",
     "text": [
      "C:\\Users\\maxpr\\AppData\\Local\\Temp/ipykernel_20384/2609232765.py:44: DeprecationWarning: executable_path has been deprecated, please pass in a Service object\n",
      "  driver = webdriver.Chrome(options=chrome_options,executable_path=\"C:\\\\Users\\\\maxpr\\\\Downloads\\\\chromedriver_win32\\\\chromedriver.exe\" )\n"
     ]
    },
    {
     "name": "stdout",
     "output_type": "stream",
     "text": [
      "This set introduced Sparkling (shiny) Pokemon that are limiited to 1 per deck! The set also introduced V & VSTAR versions of the Hisuian starters and featured a cool Pokeball Reverse Holo pattern for some cards!\n",
      "Cards\n",
      "67\n",
      "+5 Secret\n",
      "Released\n",
      "Feb 25th\n",
      "2022\n"
     ]
    },
    {
     "name": "stderr",
     "output_type": "stream",
     "text": [
      "C:\\Users\\maxpr\\AppData\\Local\\Temp/ipykernel_20384/2609232765.py:46: DeprecationWarning: find_element_by_* commands are deprecated. Please use find_element() instead\n",
      "  card_metadata = driver.find_element_by_class_name(\"setinfo\").text\n",
      "C:\\Users\\maxpr\\AppData\\Local\\Temp/ipykernel_20384/2609232765.py:48: DeprecationWarning: find_element_by_* commands are deprecated. Please use find_element() instead\n",
      "  all_cards = driver.find_element_by_class_name('cardlisting').find_elements_by_xpath('//div[@class=\"card \"]')\n"
     ]
    },
    {
     "data": {
      "application/vnd.jupyter.widget-view+json": {
       "model_id": "7cbcf0db5d9649199cbe636da00049c4",
       "version_major": 2,
       "version_minor": 0
      },
      "text/plain": [
       "  0%|          | 0/72 [00:00<?, ?it/s]"
      ]
     },
     "metadata": {},
     "output_type": "display_data"
    },
    {
     "name": "stdout",
     "output_type": "stream",
     "text": [
      "This set, featuring Arceus, introduced VSTAR Pokemon to the TCG!\n",
      "Cards\n",
      "100\n",
      "+27 Secret\n",
      "Released\n",
      "Jan 14th\n",
      "2022\n"
     ]
    },
    {
     "data": {
      "application/vnd.jupyter.widget-view+json": {
       "model_id": "375111b22e26461db4bc88b954d6a2a3",
       "version_major": 2,
       "version_minor": 0
      },
      "text/plain": [
       "  0%|          | 0/127 [00:00<?, ?it/s]"
      ]
     },
     "metadata": {},
     "output_type": "display_data"
    },
    {
     "name": "stdout",
     "output_type": "stream",
     "text": [
      "This \"set\" full of reprints contains 414 unique cards and is distributed via 100 different 60-card decks!\n",
      "Cards\n",
      "414\n",
      "+8 Secret\n",
      "Released\n",
      "Dec 17th\n",
      "2021\n"
     ]
    },
    {
     "data": {
      "application/vnd.jupyter.widget-view+json": {
       "model_id": "5d8d77f537754269bdc17acb04a77676",
       "version_major": 2,
       "version_minor": 0
      },
      "text/plain": [
       "  0%|          | 0/430 [00:00<?, ?it/s]"
      ]
     },
     "metadata": {},
     "output_type": "display_data"
    },
    {
     "name": "stdout",
     "output_type": "stream",
     "text": [
      "Cards\n",
      "184\n",
      "+100 Secret\n",
      "Released\n",
      "Dec 3rd\n",
      "2021\n"
     ]
    },
    {
     "data": {
      "application/vnd.jupyter.widget-view+json": {
       "model_id": "2ccdfdabfe5a4d57a85b9bfb91ef3190",
       "version_major": 2,
       "version_minor": 0
      },
      "text/plain": [
       "  0%|          | 0/285 [00:00<?, ?it/s]"
      ]
     },
     "metadata": {},
     "output_type": "display_data"
    },
    {
     "name": "stdout",
     "output_type": "stream",
     "text": [
      "Promo cards found randomly inserted into promo packs given to those who purchase 4 packs of the 25th Anniversary Collection\n",
      "Cards\n",
      "25\n",
      "Released\n",
      "Oct 22nd\n",
      "2021\n"
     ]
    },
    {
     "data": {
      "application/vnd.jupyter.widget-view+json": {
       "model_id": "756cdc3829fb4aef802dd933e2624a4c",
       "version_major": 2,
       "version_minor": 0
      },
      "text/plain": [
       "  0%|          | 0/25 [00:00<?, ?it/s]"
      ]
     },
     "metadata": {},
     "output_type": "display_data"
    },
    {
     "name": "stdout",
     "output_type": "stream",
     "text": [
      "A special collection of cards to celebrate the 25th anniversary\n",
      "Cards\n",
      "28\n",
      "+2 Secret\n",
      "Released\n",
      "Oct 22nd\n",
      "2021\n"
     ]
    },
    {
     "data": {
      "application/vnd.jupyter.widget-view+json": {
       "model_id": "d62b8879f95e41cc96abb6efe2084bb5",
       "version_major": 2,
       "version_minor": 0
      },
      "text/plain": [
       "  0%|          | 0/38 [00:00<?, ?it/s]"
      ]
     },
     "metadata": {},
     "output_type": "display_data"
    },
    {
     "name": "stdout",
     "output_type": "stream",
     "text": [
      "This set introduces new FUSION cards!\n",
      "Cards\n",
      "100\n",
      "+29 Secret\n",
      "Released\n",
      "Sep 24th\n",
      "2021\n"
     ]
    },
    {
     "data": {
      "application/vnd.jupyter.widget-view+json": {
       "model_id": "1181c985bb1b48dfaf13fe7733de7a89",
       "version_major": 2,
       "version_minor": 0
      },
      "text/plain": [
       "  0%|          | 0/129 [00:00<?, ?it/s]"
      ]
     },
     "metadata": {},
     "output_type": "display_data"
    },
    {
     "ename": "KeyboardInterrupt",
     "evalue": "",
     "output_type": "error",
     "traceback": [
      "\u001b[1;31m---------------------------------------------------------------------------\u001b[0m",
      "\u001b[1;31mKeyboardInterrupt\u001b[0m                         Traceback (most recent call last)",
      "\u001b[1;32m~\\AppData\\Local\\Temp/ipykernel_20384/3921155777.py\u001b[0m in \u001b[0;36m<module>\u001b[1;34m\u001b[0m\n\u001b[1;32m----> 1\u001b[1;33m \u001b[0mget_all_series\u001b[0m\u001b[1;33m(\u001b[0m\u001b[0mbase_url\u001b[0m\u001b[1;33m)\u001b[0m\u001b[1;33m\u001b[0m\u001b[1;33m\u001b[0m\u001b[0m\n\u001b[0m",
      "\u001b[1;32m~\\AppData\\Local\\Temp/ipykernel_20384/2609232765.py\u001b[0m in \u001b[0;36mget_all_series\u001b[1;34m(base_url)\u001b[0m\n\u001b[0;32m     26\u001b[0m             \u001b[1;31m#print(ext_url)\u001b[0m\u001b[1;33m\u001b[0m\u001b[1;33m\u001b[0m\u001b[1;33m\u001b[0m\u001b[0m\n\u001b[0;32m     27\u001b[0m             \u001b[1;31m#print(ext_name)\u001b[0m\u001b[1;33m\u001b[0m\u001b[1;33m\u001b[0m\u001b[1;33m\u001b[0m\u001b[0m\n\u001b[1;32m---> 28\u001b[1;33m             \u001b[0mdf_card_ext\u001b[0m \u001b[1;33m=\u001b[0m \u001b[0mone_extension_cards\u001b[0m\u001b[1;33m(\u001b[0m\u001b[0mext_url\u001b[0m\u001b[1;33m)\u001b[0m\u001b[1;33m\u001b[0m\u001b[1;33m\u001b[0m\u001b[0m\n\u001b[0m\u001b[0;32m     29\u001b[0m             \u001b[0mdf_card_ext\u001b[0m\u001b[1;33m[\u001b[0m\u001b[1;34m'series'\u001b[0m\u001b[1;33m]\u001b[0m \u001b[1;33m=\u001b[0m \u001b[0mseries\u001b[0m\u001b[1;33m[\u001b[0m\u001b[0midx\u001b[0m\u001b[1;33m]\u001b[0m\u001b[1;33m.\u001b[0m\u001b[0mtext\u001b[0m\u001b[1;33m\u001b[0m\u001b[1;33m\u001b[0m\u001b[0m\n\u001b[0;32m     30\u001b[0m             \u001b[0mdf_card_ext\u001b[0m\u001b[1;33m[\u001b[0m\u001b[1;34m'ext_code'\u001b[0m\u001b[1;33m]\u001b[0m \u001b[1;33m=\u001b[0m \u001b[0mext_code\u001b[0m\u001b[1;33m\u001b[0m\u001b[1;33m\u001b[0m\u001b[0m\n",
      "\u001b[1;32m~\\AppData\\Local\\Temp/ipykernel_20384/2609232765.py\u001b[0m in \u001b[0;36mone_extension_cards\u001b[1;34m(url_extension)\u001b[0m\n\u001b[0;32m     43\u001b[0m     \u001b[0mchrome_options\u001b[0m\u001b[1;33m.\u001b[0m\u001b[0madd_argument\u001b[0m\u001b[1;33m(\u001b[0m\u001b[1;34m\"--window-size=1920,1080\"\u001b[0m\u001b[1;33m)\u001b[0m\u001b[1;33m\u001b[0m\u001b[1;33m\u001b[0m\u001b[0m\n\u001b[0;32m     44\u001b[0m     \u001b[0mdriver\u001b[0m \u001b[1;33m=\u001b[0m \u001b[0mwebdriver\u001b[0m\u001b[1;33m.\u001b[0m\u001b[0mChrome\u001b[0m\u001b[1;33m(\u001b[0m\u001b[0moptions\u001b[0m\u001b[1;33m=\u001b[0m\u001b[0mchrome_options\u001b[0m\u001b[1;33m,\u001b[0m\u001b[0mexecutable_path\u001b[0m\u001b[1;33m=\u001b[0m\u001b[1;34m\"C:\\\\Users\\\\maxpr\\\\Downloads\\\\chromedriver_win32\\\\chromedriver.exe\"\u001b[0m \u001b[1;33m)\u001b[0m\u001b[1;33m\u001b[0m\u001b[1;33m\u001b[0m\u001b[0m\n\u001b[1;32m---> 45\u001b[1;33m     \u001b[0mdriver\u001b[0m\u001b[1;33m.\u001b[0m\u001b[0mget\u001b[0m\u001b[1;33m(\u001b[0m\u001b[0murl_extension\u001b[0m\u001b[1;33m)\u001b[0m\u001b[1;33m\u001b[0m\u001b[1;33m\u001b[0m\u001b[0m\n\u001b[0m\u001b[0;32m     46\u001b[0m     \u001b[0mcard_metadata\u001b[0m \u001b[1;33m=\u001b[0m \u001b[0mdriver\u001b[0m\u001b[1;33m.\u001b[0m\u001b[0mfind_element_by_class_name\u001b[0m\u001b[1;33m(\u001b[0m\u001b[1;34m\"setinfo\"\u001b[0m\u001b[1;33m)\u001b[0m\u001b[1;33m.\u001b[0m\u001b[0mtext\u001b[0m\u001b[1;33m\u001b[0m\u001b[1;33m\u001b[0m\u001b[0m\n\u001b[0;32m     47\u001b[0m     \u001b[0mprint\u001b[0m\u001b[1;33m(\u001b[0m\u001b[0mcard_metadata\u001b[0m\u001b[1;33m)\u001b[0m\u001b[1;33m\u001b[0m\u001b[1;33m\u001b[0m\u001b[0m\n",
      "\u001b[1;32m~\\AppData\\Local\\Programs\\Python\\Python38\\lib\\site-packages\\selenium\\webdriver\\remote\\webdriver.py\u001b[0m in \u001b[0;36mget\u001b[1;34m(self, url)\u001b[0m\n\u001b[0;32m    434\u001b[0m         \u001b[0mLoads\u001b[0m \u001b[0ma\u001b[0m \u001b[0mweb\u001b[0m \u001b[0mpage\u001b[0m \u001b[1;32min\u001b[0m \u001b[0mthe\u001b[0m \u001b[0mcurrent\u001b[0m \u001b[0mbrowser\u001b[0m \u001b[0msession\u001b[0m\u001b[1;33m.\u001b[0m\u001b[1;33m\u001b[0m\u001b[1;33m\u001b[0m\u001b[0m\n\u001b[0;32m    435\u001b[0m         \"\"\"\n\u001b[1;32m--> 436\u001b[1;33m         \u001b[0mself\u001b[0m\u001b[1;33m.\u001b[0m\u001b[0mexecute\u001b[0m\u001b[1;33m(\u001b[0m\u001b[0mCommand\u001b[0m\u001b[1;33m.\u001b[0m\u001b[0mGET\u001b[0m\u001b[1;33m,\u001b[0m \u001b[1;33m{\u001b[0m\u001b[1;34m'url'\u001b[0m\u001b[1;33m:\u001b[0m \u001b[0murl\u001b[0m\u001b[1;33m}\u001b[0m\u001b[1;33m)\u001b[0m\u001b[1;33m\u001b[0m\u001b[1;33m\u001b[0m\u001b[0m\n\u001b[0m\u001b[0;32m    437\u001b[0m \u001b[1;33m\u001b[0m\u001b[0m\n\u001b[0;32m    438\u001b[0m     \u001b[1;33m@\u001b[0m\u001b[0mproperty\u001b[0m\u001b[1;33m\u001b[0m\u001b[1;33m\u001b[0m\u001b[0m\n",
      "\u001b[1;32m~\\AppData\\Local\\Programs\\Python\\Python38\\lib\\site-packages\\selenium\\webdriver\\remote\\webdriver.py\u001b[0m in \u001b[0;36mexecute\u001b[1;34m(self, driver_command, params)\u001b[0m\n\u001b[0;32m    420\u001b[0m \u001b[1;33m\u001b[0m\u001b[0m\n\u001b[0;32m    421\u001b[0m         \u001b[0mparams\u001b[0m \u001b[1;33m=\u001b[0m \u001b[0mself\u001b[0m\u001b[1;33m.\u001b[0m\u001b[0m_wrap_value\u001b[0m\u001b[1;33m(\u001b[0m\u001b[0mparams\u001b[0m\u001b[1;33m)\u001b[0m\u001b[1;33m\u001b[0m\u001b[1;33m\u001b[0m\u001b[0m\n\u001b[1;32m--> 422\u001b[1;33m         \u001b[0mresponse\u001b[0m \u001b[1;33m=\u001b[0m \u001b[0mself\u001b[0m\u001b[1;33m.\u001b[0m\u001b[0mcommand_executor\u001b[0m\u001b[1;33m.\u001b[0m\u001b[0mexecute\u001b[0m\u001b[1;33m(\u001b[0m\u001b[0mdriver_command\u001b[0m\u001b[1;33m,\u001b[0m \u001b[0mparams\u001b[0m\u001b[1;33m)\u001b[0m\u001b[1;33m\u001b[0m\u001b[1;33m\u001b[0m\u001b[0m\n\u001b[0m\u001b[0;32m    423\u001b[0m         \u001b[1;32mif\u001b[0m \u001b[0mresponse\u001b[0m\u001b[1;33m:\u001b[0m\u001b[1;33m\u001b[0m\u001b[1;33m\u001b[0m\u001b[0m\n\u001b[0;32m    424\u001b[0m             \u001b[0mself\u001b[0m\u001b[1;33m.\u001b[0m\u001b[0merror_handler\u001b[0m\u001b[1;33m.\u001b[0m\u001b[0mcheck_response\u001b[0m\u001b[1;33m(\u001b[0m\u001b[0mresponse\u001b[0m\u001b[1;33m)\u001b[0m\u001b[1;33m\u001b[0m\u001b[1;33m\u001b[0m\u001b[0m\n",
      "\u001b[1;32m~\\AppData\\Local\\Programs\\Python\\Python38\\lib\\site-packages\\selenium\\webdriver\\remote\\remote_connection.py\u001b[0m in \u001b[0;36mexecute\u001b[1;34m(self, command, params)\u001b[0m\n\u001b[0;32m    419\u001b[0m         \u001b[0mdata\u001b[0m \u001b[1;33m=\u001b[0m \u001b[0mutils\u001b[0m\u001b[1;33m.\u001b[0m\u001b[0mdump_json\u001b[0m\u001b[1;33m(\u001b[0m\u001b[0mparams\u001b[0m\u001b[1;33m)\u001b[0m\u001b[1;33m\u001b[0m\u001b[1;33m\u001b[0m\u001b[0m\n\u001b[0;32m    420\u001b[0m         \u001b[0murl\u001b[0m \u001b[1;33m=\u001b[0m \u001b[1;34mf\"{self._url}{path}\"\u001b[0m\u001b[1;33m\u001b[0m\u001b[1;33m\u001b[0m\u001b[0m\n\u001b[1;32m--> 421\u001b[1;33m         \u001b[1;32mreturn\u001b[0m \u001b[0mself\u001b[0m\u001b[1;33m.\u001b[0m\u001b[0m_request\u001b[0m\u001b[1;33m(\u001b[0m\u001b[0mcommand_info\u001b[0m\u001b[1;33m[\u001b[0m\u001b[1;36m0\u001b[0m\u001b[1;33m]\u001b[0m\u001b[1;33m,\u001b[0m \u001b[0murl\u001b[0m\u001b[1;33m,\u001b[0m \u001b[0mbody\u001b[0m\u001b[1;33m=\u001b[0m\u001b[0mdata\u001b[0m\u001b[1;33m)\u001b[0m\u001b[1;33m\u001b[0m\u001b[1;33m\u001b[0m\u001b[0m\n\u001b[0m\u001b[0;32m    422\u001b[0m \u001b[1;33m\u001b[0m\u001b[0m\n\u001b[0;32m    423\u001b[0m     \u001b[1;32mdef\u001b[0m \u001b[0m_request\u001b[0m\u001b[1;33m(\u001b[0m\u001b[0mself\u001b[0m\u001b[1;33m,\u001b[0m \u001b[0mmethod\u001b[0m\u001b[1;33m,\u001b[0m \u001b[0murl\u001b[0m\u001b[1;33m,\u001b[0m \u001b[0mbody\u001b[0m\u001b[1;33m=\u001b[0m\u001b[1;32mNone\u001b[0m\u001b[1;33m)\u001b[0m\u001b[1;33m:\u001b[0m\u001b[1;33m\u001b[0m\u001b[1;33m\u001b[0m\u001b[0m\n",
      "\u001b[1;32m~\\AppData\\Local\\Programs\\Python\\Python38\\lib\\site-packages\\selenium\\webdriver\\remote\\remote_connection.py\u001b[0m in \u001b[0;36m_request\u001b[1;34m(self, method, url, body)\u001b[0m\n\u001b[0;32m    441\u001b[0m \u001b[1;33m\u001b[0m\u001b[0m\n\u001b[0;32m    442\u001b[0m         \u001b[1;32mif\u001b[0m \u001b[0mself\u001b[0m\u001b[1;33m.\u001b[0m\u001b[0mkeep_alive\u001b[0m\u001b[1;33m:\u001b[0m\u001b[1;33m\u001b[0m\u001b[1;33m\u001b[0m\u001b[0m\n\u001b[1;32m--> 443\u001b[1;33m             \u001b[0mresp\u001b[0m \u001b[1;33m=\u001b[0m \u001b[0mself\u001b[0m\u001b[1;33m.\u001b[0m\u001b[0m_conn\u001b[0m\u001b[1;33m.\u001b[0m\u001b[0mrequest\u001b[0m\u001b[1;33m(\u001b[0m\u001b[0mmethod\u001b[0m\u001b[1;33m,\u001b[0m \u001b[0murl\u001b[0m\u001b[1;33m,\u001b[0m \u001b[0mbody\u001b[0m\u001b[1;33m=\u001b[0m\u001b[0mbody\u001b[0m\u001b[1;33m,\u001b[0m \u001b[0mheaders\u001b[0m\u001b[1;33m=\u001b[0m\u001b[0mheaders\u001b[0m\u001b[1;33m)\u001b[0m\u001b[1;33m\u001b[0m\u001b[1;33m\u001b[0m\u001b[0m\n\u001b[0m\u001b[0;32m    444\u001b[0m             \u001b[0mstatuscode\u001b[0m \u001b[1;33m=\u001b[0m \u001b[0mresp\u001b[0m\u001b[1;33m.\u001b[0m\u001b[0mstatus\u001b[0m\u001b[1;33m\u001b[0m\u001b[1;33m\u001b[0m\u001b[0m\n\u001b[0;32m    445\u001b[0m         \u001b[1;32melse\u001b[0m\u001b[1;33m:\u001b[0m\u001b[1;33m\u001b[0m\u001b[1;33m\u001b[0m\u001b[0m\n",
      "\u001b[1;32m~\\AppData\\Local\\Programs\\Python\\Python38\\lib\\site-packages\\urllib3\\request.py\u001b[0m in \u001b[0;36mrequest\u001b[1;34m(self, method, url, fields, headers, **urlopen_kw)\u001b[0m\n\u001b[0;32m     76\u001b[0m             )\n\u001b[0;32m     77\u001b[0m         \u001b[1;32melse\u001b[0m\u001b[1;33m:\u001b[0m\u001b[1;33m\u001b[0m\u001b[1;33m\u001b[0m\u001b[0m\n\u001b[1;32m---> 78\u001b[1;33m             return self.request_encode_body(\n\u001b[0m\u001b[0;32m     79\u001b[0m                 \u001b[0mmethod\u001b[0m\u001b[1;33m,\u001b[0m \u001b[0murl\u001b[0m\u001b[1;33m,\u001b[0m \u001b[0mfields\u001b[0m\u001b[1;33m=\u001b[0m\u001b[0mfields\u001b[0m\u001b[1;33m,\u001b[0m \u001b[0mheaders\u001b[0m\u001b[1;33m=\u001b[0m\u001b[0mheaders\u001b[0m\u001b[1;33m,\u001b[0m \u001b[1;33m**\u001b[0m\u001b[0murlopen_kw\u001b[0m\u001b[1;33m\u001b[0m\u001b[1;33m\u001b[0m\u001b[0m\n\u001b[0;32m     80\u001b[0m             )\n",
      "\u001b[1;32m~\\AppData\\Local\\Programs\\Python\\Python38\\lib\\site-packages\\urllib3\\request.py\u001b[0m in \u001b[0;36mrequest_encode_body\u001b[1;34m(self, method, url, fields, headers, encode_multipart, multipart_boundary, **urlopen_kw)\u001b[0m\n\u001b[0;32m    168\u001b[0m         \u001b[0mextra_kw\u001b[0m\u001b[1;33m.\u001b[0m\u001b[0mupdate\u001b[0m\u001b[1;33m(\u001b[0m\u001b[0murlopen_kw\u001b[0m\u001b[1;33m)\u001b[0m\u001b[1;33m\u001b[0m\u001b[1;33m\u001b[0m\u001b[0m\n\u001b[0;32m    169\u001b[0m \u001b[1;33m\u001b[0m\u001b[0m\n\u001b[1;32m--> 170\u001b[1;33m         \u001b[1;32mreturn\u001b[0m \u001b[0mself\u001b[0m\u001b[1;33m.\u001b[0m\u001b[0murlopen\u001b[0m\u001b[1;33m(\u001b[0m\u001b[0mmethod\u001b[0m\u001b[1;33m,\u001b[0m \u001b[0murl\u001b[0m\u001b[1;33m,\u001b[0m \u001b[1;33m**\u001b[0m\u001b[0mextra_kw\u001b[0m\u001b[1;33m)\u001b[0m\u001b[1;33m\u001b[0m\u001b[1;33m\u001b[0m\u001b[0m\n\u001b[0m",
      "\u001b[1;32m~\\AppData\\Local\\Programs\\Python\\Python38\\lib\\site-packages\\urllib3\\poolmanager.py\u001b[0m in \u001b[0;36murlopen\u001b[1;34m(self, method, url, redirect, **kw)\u001b[0m\n\u001b[0;32m    373\u001b[0m             \u001b[0mresponse\u001b[0m \u001b[1;33m=\u001b[0m \u001b[0mconn\u001b[0m\u001b[1;33m.\u001b[0m\u001b[0murlopen\u001b[0m\u001b[1;33m(\u001b[0m\u001b[0mmethod\u001b[0m\u001b[1;33m,\u001b[0m \u001b[0murl\u001b[0m\u001b[1;33m,\u001b[0m \u001b[1;33m**\u001b[0m\u001b[0mkw\u001b[0m\u001b[1;33m)\u001b[0m\u001b[1;33m\u001b[0m\u001b[1;33m\u001b[0m\u001b[0m\n\u001b[0;32m    374\u001b[0m         \u001b[1;32melse\u001b[0m\u001b[1;33m:\u001b[0m\u001b[1;33m\u001b[0m\u001b[1;33m\u001b[0m\u001b[0m\n\u001b[1;32m--> 375\u001b[1;33m             \u001b[0mresponse\u001b[0m \u001b[1;33m=\u001b[0m \u001b[0mconn\u001b[0m\u001b[1;33m.\u001b[0m\u001b[0murlopen\u001b[0m\u001b[1;33m(\u001b[0m\u001b[0mmethod\u001b[0m\u001b[1;33m,\u001b[0m \u001b[0mu\u001b[0m\u001b[1;33m.\u001b[0m\u001b[0mrequest_uri\u001b[0m\u001b[1;33m,\u001b[0m \u001b[1;33m**\u001b[0m\u001b[0mkw\u001b[0m\u001b[1;33m)\u001b[0m\u001b[1;33m\u001b[0m\u001b[1;33m\u001b[0m\u001b[0m\n\u001b[0m\u001b[0;32m    376\u001b[0m \u001b[1;33m\u001b[0m\u001b[0m\n\u001b[0;32m    377\u001b[0m         \u001b[0mredirect_location\u001b[0m \u001b[1;33m=\u001b[0m \u001b[0mredirect\u001b[0m \u001b[1;32mand\u001b[0m \u001b[0mresponse\u001b[0m\u001b[1;33m.\u001b[0m\u001b[0mget_redirect_location\u001b[0m\u001b[1;33m(\u001b[0m\u001b[1;33m)\u001b[0m\u001b[1;33m\u001b[0m\u001b[1;33m\u001b[0m\u001b[0m\n",
      "\u001b[1;32m~\\AppData\\Local\\Programs\\Python\\Python38\\lib\\site-packages\\urllib3\\connectionpool.py\u001b[0m in \u001b[0;36murlopen\u001b[1;34m(self, method, url, body, headers, retries, redirect, assert_same_host, timeout, pool_timeout, release_conn, chunked, body_pos, **response_kw)\u001b[0m\n\u001b[0;32m    697\u001b[0m \u001b[1;33m\u001b[0m\u001b[0m\n\u001b[0;32m    698\u001b[0m             \u001b[1;31m# Make the request on the httplib connection object.\u001b[0m\u001b[1;33m\u001b[0m\u001b[1;33m\u001b[0m\u001b[1;33m\u001b[0m\u001b[0m\n\u001b[1;32m--> 699\u001b[1;33m             httplib_response = self._make_request(\n\u001b[0m\u001b[0;32m    700\u001b[0m                 \u001b[0mconn\u001b[0m\u001b[1;33m,\u001b[0m\u001b[1;33m\u001b[0m\u001b[1;33m\u001b[0m\u001b[0m\n\u001b[0;32m    701\u001b[0m                 \u001b[0mmethod\u001b[0m\u001b[1;33m,\u001b[0m\u001b[1;33m\u001b[0m\u001b[1;33m\u001b[0m\u001b[0m\n",
      "\u001b[1;32m~\\AppData\\Local\\Programs\\Python\\Python38\\lib\\site-packages\\urllib3\\connectionpool.py\u001b[0m in \u001b[0;36m_make_request\u001b[1;34m(self, conn, method, url, timeout, chunked, **httplib_request_kw)\u001b[0m\n\u001b[0;32m    443\u001b[0m                     \u001b[1;31m# Python 3 (including for exceptions like SystemExit).\u001b[0m\u001b[1;33m\u001b[0m\u001b[1;33m\u001b[0m\u001b[1;33m\u001b[0m\u001b[0m\n\u001b[0;32m    444\u001b[0m                     \u001b[1;31m# Otherwise it looks like a bug in the code.\u001b[0m\u001b[1;33m\u001b[0m\u001b[1;33m\u001b[0m\u001b[1;33m\u001b[0m\u001b[0m\n\u001b[1;32m--> 445\u001b[1;33m                     \u001b[0msix\u001b[0m\u001b[1;33m.\u001b[0m\u001b[0mraise_from\u001b[0m\u001b[1;33m(\u001b[0m\u001b[0me\u001b[0m\u001b[1;33m,\u001b[0m \u001b[1;32mNone\u001b[0m\u001b[1;33m)\u001b[0m\u001b[1;33m\u001b[0m\u001b[1;33m\u001b[0m\u001b[0m\n\u001b[0m\u001b[0;32m    446\u001b[0m         \u001b[1;32mexcept\u001b[0m \u001b[1;33m(\u001b[0m\u001b[0mSocketTimeout\u001b[0m\u001b[1;33m,\u001b[0m \u001b[0mBaseSSLError\u001b[0m\u001b[1;33m,\u001b[0m \u001b[0mSocketError\u001b[0m\u001b[1;33m)\u001b[0m \u001b[1;32mas\u001b[0m \u001b[0me\u001b[0m\u001b[1;33m:\u001b[0m\u001b[1;33m\u001b[0m\u001b[1;33m\u001b[0m\u001b[0m\n\u001b[0;32m    447\u001b[0m             \u001b[0mself\u001b[0m\u001b[1;33m.\u001b[0m\u001b[0m_raise_timeout\u001b[0m\u001b[1;33m(\u001b[0m\u001b[0merr\u001b[0m\u001b[1;33m=\u001b[0m\u001b[0me\u001b[0m\u001b[1;33m,\u001b[0m \u001b[0murl\u001b[0m\u001b[1;33m=\u001b[0m\u001b[0murl\u001b[0m\u001b[1;33m,\u001b[0m \u001b[0mtimeout_value\u001b[0m\u001b[1;33m=\u001b[0m\u001b[0mread_timeout\u001b[0m\u001b[1;33m)\u001b[0m\u001b[1;33m\u001b[0m\u001b[1;33m\u001b[0m\u001b[0m\n",
      "\u001b[1;32m~\\AppData\\Local\\Programs\\Python\\Python38\\lib\\site-packages\\urllib3\\packages\\six.py\u001b[0m in \u001b[0;36mraise_from\u001b[1;34m(value, from_value)\u001b[0m\n",
      "\u001b[1;32m~\\AppData\\Local\\Programs\\Python\\Python38\\lib\\site-packages\\urllib3\\connectionpool.py\u001b[0m in \u001b[0;36m_make_request\u001b[1;34m(self, conn, method, url, timeout, chunked, **httplib_request_kw)\u001b[0m\n\u001b[0;32m    438\u001b[0m                 \u001b[1;31m# Python 3\u001b[0m\u001b[1;33m\u001b[0m\u001b[1;33m\u001b[0m\u001b[1;33m\u001b[0m\u001b[0m\n\u001b[0;32m    439\u001b[0m                 \u001b[1;32mtry\u001b[0m\u001b[1;33m:\u001b[0m\u001b[1;33m\u001b[0m\u001b[1;33m\u001b[0m\u001b[0m\n\u001b[1;32m--> 440\u001b[1;33m                     \u001b[0mhttplib_response\u001b[0m \u001b[1;33m=\u001b[0m \u001b[0mconn\u001b[0m\u001b[1;33m.\u001b[0m\u001b[0mgetresponse\u001b[0m\u001b[1;33m(\u001b[0m\u001b[1;33m)\u001b[0m\u001b[1;33m\u001b[0m\u001b[1;33m\u001b[0m\u001b[0m\n\u001b[0m\u001b[0;32m    441\u001b[0m                 \u001b[1;32mexcept\u001b[0m \u001b[0mBaseException\u001b[0m \u001b[1;32mas\u001b[0m \u001b[0me\u001b[0m\u001b[1;33m:\u001b[0m\u001b[1;33m\u001b[0m\u001b[1;33m\u001b[0m\u001b[0m\n\u001b[0;32m    442\u001b[0m                     \u001b[1;31m# Remove the TypeError from the exception chain in\u001b[0m\u001b[1;33m\u001b[0m\u001b[1;33m\u001b[0m\u001b[1;33m\u001b[0m\u001b[0m\n",
      "\u001b[1;32m~\\AppData\\Local\\Programs\\Python\\Python38\\lib\\http\\client.py\u001b[0m in \u001b[0;36mgetresponse\u001b[1;34m(self)\u001b[0m\n\u001b[0;32m   1345\u001b[0m         \u001b[1;32mtry\u001b[0m\u001b[1;33m:\u001b[0m\u001b[1;33m\u001b[0m\u001b[1;33m\u001b[0m\u001b[0m\n\u001b[0;32m   1346\u001b[0m             \u001b[1;32mtry\u001b[0m\u001b[1;33m:\u001b[0m\u001b[1;33m\u001b[0m\u001b[1;33m\u001b[0m\u001b[0m\n\u001b[1;32m-> 1347\u001b[1;33m                 \u001b[0mresponse\u001b[0m\u001b[1;33m.\u001b[0m\u001b[0mbegin\u001b[0m\u001b[1;33m(\u001b[0m\u001b[1;33m)\u001b[0m\u001b[1;33m\u001b[0m\u001b[1;33m\u001b[0m\u001b[0m\n\u001b[0m\u001b[0;32m   1348\u001b[0m             \u001b[1;32mexcept\u001b[0m \u001b[0mConnectionError\u001b[0m\u001b[1;33m:\u001b[0m\u001b[1;33m\u001b[0m\u001b[1;33m\u001b[0m\u001b[0m\n\u001b[0;32m   1349\u001b[0m                 \u001b[0mself\u001b[0m\u001b[1;33m.\u001b[0m\u001b[0mclose\u001b[0m\u001b[1;33m(\u001b[0m\u001b[1;33m)\u001b[0m\u001b[1;33m\u001b[0m\u001b[1;33m\u001b[0m\u001b[0m\n",
      "\u001b[1;32m~\\AppData\\Local\\Programs\\Python\\Python38\\lib\\http\\client.py\u001b[0m in \u001b[0;36mbegin\u001b[1;34m(self)\u001b[0m\n\u001b[0;32m    305\u001b[0m         \u001b[1;31m# read until we get a non-100 response\u001b[0m\u001b[1;33m\u001b[0m\u001b[1;33m\u001b[0m\u001b[1;33m\u001b[0m\u001b[0m\n\u001b[0;32m    306\u001b[0m         \u001b[1;32mwhile\u001b[0m \u001b[1;32mTrue\u001b[0m\u001b[1;33m:\u001b[0m\u001b[1;33m\u001b[0m\u001b[1;33m\u001b[0m\u001b[0m\n\u001b[1;32m--> 307\u001b[1;33m             \u001b[0mversion\u001b[0m\u001b[1;33m,\u001b[0m \u001b[0mstatus\u001b[0m\u001b[1;33m,\u001b[0m \u001b[0mreason\u001b[0m \u001b[1;33m=\u001b[0m \u001b[0mself\u001b[0m\u001b[1;33m.\u001b[0m\u001b[0m_read_status\u001b[0m\u001b[1;33m(\u001b[0m\u001b[1;33m)\u001b[0m\u001b[1;33m\u001b[0m\u001b[1;33m\u001b[0m\u001b[0m\n\u001b[0m\u001b[0;32m    308\u001b[0m             \u001b[1;32mif\u001b[0m \u001b[0mstatus\u001b[0m \u001b[1;33m!=\u001b[0m \u001b[0mCONTINUE\u001b[0m\u001b[1;33m:\u001b[0m\u001b[1;33m\u001b[0m\u001b[1;33m\u001b[0m\u001b[0m\n\u001b[0;32m    309\u001b[0m                 \u001b[1;32mbreak\u001b[0m\u001b[1;33m\u001b[0m\u001b[1;33m\u001b[0m\u001b[0m\n",
      "\u001b[1;32m~\\AppData\\Local\\Programs\\Python\\Python38\\lib\\http\\client.py\u001b[0m in \u001b[0;36m_read_status\u001b[1;34m(self)\u001b[0m\n\u001b[0;32m    266\u001b[0m \u001b[1;33m\u001b[0m\u001b[0m\n\u001b[0;32m    267\u001b[0m     \u001b[1;32mdef\u001b[0m \u001b[0m_read_status\u001b[0m\u001b[1;33m(\u001b[0m\u001b[0mself\u001b[0m\u001b[1;33m)\u001b[0m\u001b[1;33m:\u001b[0m\u001b[1;33m\u001b[0m\u001b[1;33m\u001b[0m\u001b[0m\n\u001b[1;32m--> 268\u001b[1;33m         \u001b[0mline\u001b[0m \u001b[1;33m=\u001b[0m \u001b[0mstr\u001b[0m\u001b[1;33m(\u001b[0m\u001b[0mself\u001b[0m\u001b[1;33m.\u001b[0m\u001b[0mfp\u001b[0m\u001b[1;33m.\u001b[0m\u001b[0mreadline\u001b[0m\u001b[1;33m(\u001b[0m\u001b[0m_MAXLINE\u001b[0m \u001b[1;33m+\u001b[0m \u001b[1;36m1\u001b[0m\u001b[1;33m)\u001b[0m\u001b[1;33m,\u001b[0m \u001b[1;34m\"iso-8859-1\"\u001b[0m\u001b[1;33m)\u001b[0m\u001b[1;33m\u001b[0m\u001b[1;33m\u001b[0m\u001b[0m\n\u001b[0m\u001b[0;32m    269\u001b[0m         \u001b[1;32mif\u001b[0m \u001b[0mlen\u001b[0m\u001b[1;33m(\u001b[0m\u001b[0mline\u001b[0m\u001b[1;33m)\u001b[0m \u001b[1;33m>\u001b[0m \u001b[0m_MAXLINE\u001b[0m\u001b[1;33m:\u001b[0m\u001b[1;33m\u001b[0m\u001b[1;33m\u001b[0m\u001b[0m\n\u001b[0;32m    270\u001b[0m             \u001b[1;32mraise\u001b[0m \u001b[0mLineTooLong\u001b[0m\u001b[1;33m(\u001b[0m\u001b[1;34m\"status line\"\u001b[0m\u001b[1;33m)\u001b[0m\u001b[1;33m\u001b[0m\u001b[1;33m\u001b[0m\u001b[0m\n",
      "\u001b[1;32m~\\AppData\\Local\\Programs\\Python\\Python38\\lib\\socket.py\u001b[0m in \u001b[0;36mreadinto\u001b[1;34m(self, b)\u001b[0m\n\u001b[0;32m    667\u001b[0m         \u001b[1;32mwhile\u001b[0m \u001b[1;32mTrue\u001b[0m\u001b[1;33m:\u001b[0m\u001b[1;33m\u001b[0m\u001b[1;33m\u001b[0m\u001b[0m\n\u001b[0;32m    668\u001b[0m             \u001b[1;32mtry\u001b[0m\u001b[1;33m:\u001b[0m\u001b[1;33m\u001b[0m\u001b[1;33m\u001b[0m\u001b[0m\n\u001b[1;32m--> 669\u001b[1;33m                 \u001b[1;32mreturn\u001b[0m \u001b[0mself\u001b[0m\u001b[1;33m.\u001b[0m\u001b[0m_sock\u001b[0m\u001b[1;33m.\u001b[0m\u001b[0mrecv_into\u001b[0m\u001b[1;33m(\u001b[0m\u001b[0mb\u001b[0m\u001b[1;33m)\u001b[0m\u001b[1;33m\u001b[0m\u001b[1;33m\u001b[0m\u001b[0m\n\u001b[0m\u001b[0;32m    670\u001b[0m             \u001b[1;32mexcept\u001b[0m \u001b[0mtimeout\u001b[0m\u001b[1;33m:\u001b[0m\u001b[1;33m\u001b[0m\u001b[1;33m\u001b[0m\u001b[0m\n\u001b[0;32m    671\u001b[0m                 \u001b[0mself\u001b[0m\u001b[1;33m.\u001b[0m\u001b[0m_timeout_occurred\u001b[0m \u001b[1;33m=\u001b[0m \u001b[1;32mTrue\u001b[0m\u001b[1;33m\u001b[0m\u001b[1;33m\u001b[0m\u001b[0m\n",
      "\u001b[1;31mKeyboardInterrupt\u001b[0m: "
     ]
    }
   ],
   "source": [
    "get_all_series(base_url)"
   ]
  },
  {
   "cell_type": "code",
   "execution_count": null,
   "metadata": {},
   "outputs": [],
   "source": []
  }
 ],
 "metadata": {
  "interpreter": {
   "hash": "33a5134e8eb5e4d34dc1a3207747d3c9a4871c8833fed6cb874a76d6e8956fe5"
  },
  "kernelspec": {
   "display_name": "Python 3.8.8 64-bit",
   "language": "python",
   "name": "python3"
  },
  "language_info": {
   "codemirror_mode": {
    "name": "ipython",
    "version": 3
   },
   "file_extension": ".py",
   "mimetype": "text/x-python",
   "name": "python",
   "nbconvert_exporter": "python",
   "pygments_lexer": "ipython3",
   "version": "3.8.8"
  },
  "orig_nbformat": 4
 },
 "nbformat": 4,
 "nbformat_minor": 2
}
